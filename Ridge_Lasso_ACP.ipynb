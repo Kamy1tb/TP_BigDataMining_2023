{
  "nbformat": 4,
  "nbformat_minor": 0,
  "metadata": {
    "colab": {
      "provenance": []
    },
    "kernelspec": {
      "name": "python3",
      "display_name": "Python 3"
    },
    "language_info": {
      "name": "python"
    }
  },
  "cells": [
    {
      "cell_type": "code",
      "execution_count": null,
      "metadata": {
        "id": "oVaice83av3M"
      },
      "outputs": [],
      "source": [
        "import pandas as pd\n",
        "import numpy as np\n",
        "import math\n",
        "import matplotlib.pyplot as plt\n",
        "from sklearn.decomposition import PCA\n",
        "from sklearn.preprocessing import StandardScaler\n",
        "from sklearn.feature_selection import SelectKBest\n",
        "from sklearn.feature_selection import chi2\n",
        "from sklearn.linear_model import LinearRegression\n",
        "from sklearn.model_selection import train_test_split\n",
        "from sklearn.metrics import mean_squared_error, r2_score\n",
        "import statsmodels.formula.api as smf"
      ]
    },
    {
      "cell_type": "markdown",
      "source": [
        "### **Affichage du Dataset**"
      ],
      "metadata": {
        "id": "NI7q6Uxs9H5U"
      }
    },
    {
      "cell_type": "code",
      "source": [
        "df_boston = pd.read_csv('HousingData.csv')\n",
        "df_boston = df_boston.dropna() # enlever les individus possèdant une variable NULL\n",
        "print(df_boston)"
      ],
      "metadata": {
        "colab": {
          "base_uri": "https://localhost:8080/"
        },
        "id": "mY9AZZ7Bjlms",
        "outputId": "697cb83e-d0e7-483b-f043-79f804000bc3"
      },
      "execution_count": null,
      "outputs": [
        {
          "output_type": "stream",
          "name": "stdout",
          "text": [
            "        CRIM    ZN  INDUS  CHAS    NOX     RM   AGE     DIS  RAD  TAX  \\\n",
            "0    0.00632  18.0   2.31   0.0  0.538  6.575  65.2  4.0900    1  296   \n",
            "1    0.02731   0.0   7.07   0.0  0.469  6.421  78.9  4.9671    2  242   \n",
            "2    0.02729   0.0   7.07   0.0  0.469  7.185  61.1  4.9671    2  242   \n",
            "3    0.03237   0.0   2.18   0.0  0.458  6.998  45.8  6.0622    3  222   \n",
            "5    0.02985   0.0   2.18   0.0  0.458  6.430  58.7  6.0622    3  222   \n",
            "..       ...   ...    ...   ...    ...    ...   ...     ...  ...  ...   \n",
            "499  0.17783   0.0   9.69   0.0  0.585  5.569  73.5  2.3999    6  391   \n",
            "500  0.22438   0.0   9.69   0.0  0.585  6.027  79.7  2.4982    6  391   \n",
            "502  0.04527   0.0  11.93   0.0  0.573  6.120  76.7  2.2875    1  273   \n",
            "503  0.06076   0.0  11.93   0.0  0.573  6.976  91.0  2.1675    1  273   \n",
            "504  0.10959   0.0  11.93   0.0  0.573  6.794  89.3  2.3889    1  273   \n",
            "\n",
            "     PTRATIO       B  LSTAT  MEDV  \n",
            "0       15.3  396.90   4.98  24.0  \n",
            "1       17.8  396.90   9.14  21.6  \n",
            "2       17.8  392.83   4.03  34.7  \n",
            "3       18.7  394.63   2.94  33.4  \n",
            "5       18.7  394.12   5.21  28.7  \n",
            "..       ...     ...    ...   ...  \n",
            "499     19.2  395.77  15.10  17.5  \n",
            "500     19.2  396.90  14.33  16.8  \n",
            "502     21.0  396.90   9.08  20.6  \n",
            "503     21.0  396.90   5.64  23.9  \n",
            "504     21.0  393.45   6.48  22.0  \n",
            "\n",
            "[394 rows x 14 columns]\n"
          ]
        }
      ]
    },
    {
      "cell_type": "markdown",
      "source": [
        "### **Description des variables**"
      ],
      "metadata": {
        "id": "rqXNIie89Osr"
      }
    },
    {
      "cell_type": "code",
      "source": [
        "\n",
        "\n",
        "# Obtenir les statistiques descriptives\n",
        "summary = df_boston.describe()\n",
        "\n",
        "# Transposer les statistiques descriptives pour les afficher verticalement\n",
        "summary = summary.transpose()\n",
        "\n",
        "# Ajouter une colonne pour la variance\n",
        "summary['variance'] = df_boston.var()\n",
        "\n",
        "# Ajouter une colonne pour la valeur manquante\n",
        "summary['missing'] = df_boston.isnull().sum()\n",
        "\n",
        "# Renommer la colonne '50%' en 'median'\n",
        "summary = summary.rename(columns={'50%': 'median'})\n",
        "\n",
        "# Afficher les statistiques descriptives\n",
        "print(summary)"
      ],
      "metadata": {
        "colab": {
          "base_uri": "https://localhost:8080/"
        },
        "id": "x1h0POlbhp1L",
        "outputId": "c2c8e731-7bc3-438f-d741-de08ae43435e"
      },
      "execution_count": null,
      "outputs": [
        {
          "output_type": "stream",
          "name": "stdout",
          "text": [
            "         count        mean         std        min         25%     median  \\\n",
            "CRIM     394.0    3.690136    9.202423    0.00632    0.081955    0.26888   \n",
            "ZN       394.0   11.460660   23.954082    0.00000    0.000000    0.00000   \n",
            "INDUS    394.0   11.000863    6.908364    0.46000    5.130000    8.56000   \n",
            "CHAS     394.0    0.068528    0.252971    0.00000    0.000000    0.00000   \n",
            "NOX      394.0    0.553215    0.113112    0.38900    0.453000    0.53800   \n",
            "RM       394.0    6.280015    0.697985    3.56100    5.879250    6.20150   \n",
            "AGE      394.0   68.932741   27.888705    2.90000   45.475000   77.70000   \n",
            "DIS      394.0    3.805268    2.098571    1.12960    2.110100    3.19920   \n",
            "RAD      394.0    9.403553    8.633451    1.00000    4.000000    5.00000   \n",
            "TAX      394.0  406.431472  168.312419  187.00000  280.250000  330.00000   \n",
            "PTRATIO  394.0   18.537563    2.166460   12.60000   17.400000   19.10000   \n",
            "B        394.0  358.490939   89.283295    2.60000  376.707500  392.19000   \n",
            "LSTAT    394.0   12.769112    7.308430    1.73000    7.125000   11.30000   \n",
            "MEDV     394.0   22.359645    9.142979    5.00000   16.800000   21.05000   \n",
            "\n",
            "                75%       max      variance  missing  \n",
            "CRIM       3.435973   88.9762     84.684581        0  \n",
            "ZN        12.500000  100.0000    573.798067        0  \n",
            "INDUS     18.100000   27.7400     47.725488        0  \n",
            "CHAS       0.000000    1.0000      0.063994        0  \n",
            "NOX        0.624000    0.8710      0.012794        0  \n",
            "RM         6.605500    8.7800      0.487183        0  \n",
            "AGE       94.250000  100.0000    777.779867        0  \n",
            "DIS        5.116700   12.1265      4.404001        0  \n",
            "RAD       24.000000   24.0000     74.536476        0  \n",
            "TAX      666.000000  711.0000  28329.070356        0  \n",
            "PTRATIO   20.200000   22.0000      4.693547        0  \n",
            "B        396.900000  396.9000   7971.506752        0  \n",
            "LSTAT     17.117500   37.9700     53.413156        0  \n",
            "MEDV      25.000000   50.0000     83.594067        0  \n"
          ]
        }
      ]
    },
    {
      "cell_type": "markdown",
      "source": [
        "#Matrice de corrélation"
      ],
      "metadata": {
        "id": "CAA5rof0o0bx"
      }
    },
    {
      "cell_type": "code",
      "source": [
        "corr_matrix = df_boston.corr()\n",
        "\n",
        "# Afficher la matrice de corrélation\n",
        "print(corr_matrix)"
      ],
      "metadata": {
        "colab": {
          "base_uri": "https://localhost:8080/"
        },
        "id": "rzZgkFZtk0Lo",
        "outputId": "b8a62ad7-5466-4c82-9055-76797b9743ca"
      },
      "execution_count": null,
      "outputs": [
        {
          "output_type": "stream",
          "name": "stdout",
          "text": [
            "             CRIM        ZN     INDUS      CHAS       NOX        RM       AGE  \\\n",
            "CRIM     1.000000 -0.188075  0.391552 -0.051970  0.416160 -0.227170  0.341311   \n",
            "ZN      -0.188075  1.000000 -0.521256 -0.033357 -0.515660  0.343210 -0.568174   \n",
            "INDUS    0.391552 -0.521256  1.000000  0.049820  0.762737 -0.403068  0.642387   \n",
            "CHAS    -0.051970 -0.033357  0.049820  1.000000  0.076661  0.095308  0.072644   \n",
            "NOX      0.416160 -0.515660  0.762737  0.076661  1.000000 -0.316563  0.732540   \n",
            "RM      -0.227170  0.343210 -0.403068  0.095308 -0.316563  1.000000 -0.248670   \n",
            "AGE      0.341311 -0.568174  0.642387  0.072644  0.732540 -0.248670  1.000000   \n",
            "DIS     -0.365052  0.645359 -0.696569 -0.095037 -0.768137  0.218713 -0.753547   \n",
            "RAD      0.608667 -0.298773  0.591944  0.014102  0.628170 -0.236057  0.443585   \n",
            "TAX      0.560841 -0.305768  0.734204 -0.026513  0.679824 -0.320561  0.504472   \n",
            "PTRATIO  0.265428 -0.422164  0.395691 -0.104995  0.210216 -0.390686  0.264968   \n",
            "B       -0.386254  0.169894 -0.344788  0.068913 -0.384257  0.123320 -0.281990   \n",
            "LSTAT    0.461906 -0.415041  0.598156 -0.037113  0.593655 -0.636226  0.601137   \n",
            "MEDV    -0.397230  0.406822 -0.510829  0.173701 -0.459054  0.723951 -0.407470   \n",
            "\n",
            "              DIS       RAD       TAX   PTRATIO         B     LSTAT      MEDV  \n",
            "CRIM    -0.365052  0.608667  0.560841  0.265428 -0.386254  0.461906 -0.397230  \n",
            "ZN       0.645359 -0.298773 -0.305768 -0.422164  0.169894 -0.415041  0.406822  \n",
            "INDUS   -0.696569  0.591944  0.734204  0.395691 -0.344788  0.598156 -0.510829  \n",
            "CHAS    -0.095037  0.014102 -0.026513 -0.104995  0.068913 -0.037113  0.173701  \n",
            "NOX     -0.768137  0.628170  0.679824  0.210216 -0.384257  0.593655 -0.459054  \n",
            "RM       0.218713 -0.236057 -0.320561 -0.390686  0.123320 -0.636226  0.723951  \n",
            "AGE     -0.753547  0.443585  0.504472  0.264968 -0.281990  0.601137 -0.407470  \n",
            "DIS      1.000000 -0.477075 -0.529603 -0.228840  0.285168 -0.505036  0.279547  \n",
            "RAD     -0.477075  1.000000  0.900000  0.441949 -0.444135  0.510868 -0.416638  \n",
            "TAX     -0.529603  0.900000  1.000000  0.446961 -0.435457  0.572218 -0.508864  \n",
            "PTRATIO -0.228840  0.441949  0.446961  1.000000 -0.179816  0.395006 -0.543809  \n",
            "B        0.285168 -0.444135 -0.435457 -0.179816  1.000000 -0.383783  0.347256  \n",
            "LSTAT   -0.505036  0.510868  0.572218  0.395006 -0.383783  1.000000 -0.743450  \n",
            "MEDV     0.279547 -0.416638 -0.508864 -0.543809  0.347256 -0.743450  1.000000  \n"
          ]
        }
      ]
    },
    {
      "cell_type": "markdown",
      "source": [
        "### **Définition des input et des Output**"
      ],
      "metadata": {
        "id": "J8Q8dFRL9dE-"
      }
    },
    {
      "cell_type": "code",
      "source": [
        "# Séparer les variables indépendantes et la variable dépendante\n",
        "boston_output = df_boston['MEDV']\n",
        "df_boston.drop('MEDV', axis=1, inplace=True)\n",
        "boston_input = df_boston\n"
      ],
      "metadata": {
        "id": "fM2Z7XA3esbO"
      },
      "execution_count": null,
      "outputs": []
    },
    {
      "cell_type": "markdown",
      "source": [
        "# **Regréssion linéaire simple**\n",
        "\n"
      ],
      "metadata": {
        "id": "_BKwx9p87h_w"
      }
    },
    {
      "cell_type": "code",
      "source": [
        "model = smf.ols('boston_output ~ boston_input',data= df_boston).fit()"
      ],
      "metadata": {
        "id": "Wm3skN-JqNOS"
      },
      "execution_count": null,
      "outputs": []
    },
    {
      "cell_type": "code",
      "source": [
        "model.summary()"
      ],
      "metadata": {
        "colab": {
          "base_uri": "https://localhost:8080/",
          "height": 743
        },
        "id": "Rd73IPVirFhF",
        "outputId": "9bc233b7-5c0e-4b77-d335-dc17f0b2e319"
      },
      "execution_count": null,
      "outputs": [
        {
          "output_type": "execute_result",
          "data": {
            "text/plain": [
              "<class 'statsmodels.iolib.summary.Summary'>\n",
              "\"\"\"\n",
              "                            OLS Regression Results                            \n",
              "==============================================================================\n",
              "Dep. Variable:          boston_output   R-squared:                       0.767\n",
              "Model:                            OLS   Adj. R-squared:                  0.759\n",
              "Method:                 Least Squares   F-statistic:                     96.29\n",
              "Date:                Mon, 20 Mar 2023   Prob (F-statistic):          1.75e-111\n",
              "Time:                        21:15:54   Log-Likelihood:                -1143.4\n",
              "No. Observations:                 394   AIC:                             2315.\n",
              "Df Residuals:                     380   BIC:                             2370.\n",
              "Df Model:                          13                                         \n",
              "Covariance Type:            nonrobust                                         \n",
              "====================================================================================\n",
              "                       coef    std err          t      P>|t|      [0.025      0.975]\n",
              "------------------------------------------------------------------------------------\n",
              "Intercept           32.6801      5.681      5.752      0.000      21.509      43.851\n",
              "boston_input[0]     -0.0976      0.032     -3.007      0.003      -0.161      -0.034\n",
              "boston_input[1]      0.0489      0.014      3.397      0.001       0.021       0.077\n",
              "boston_input[2]      0.0304      0.066      0.461      0.645      -0.099       0.160\n",
              "boston_input[3]      2.7694      0.925      2.993      0.003       0.950       4.588\n",
              "boston_input[4]    -17.9690      4.243     -4.235      0.000     -26.311      -9.627\n",
              "boston_input[5]      4.2833      0.471      9.100      0.000       3.358       5.209\n",
              "boston_input[6]     -0.0130      0.014     -0.898      0.370      -0.041       0.015\n",
              "boston_input[7]     -1.4585      0.211     -6.912      0.000      -1.873      -1.044\n",
              "boston_input[8]      0.2859      0.069      4.125      0.000       0.150       0.422\n",
              "boston_input[9]     -0.0131      0.004     -3.324      0.001      -0.021      -0.005\n",
              "boston_input[10]    -0.9146      0.141     -6.506      0.000      -1.191      -0.638\n",
              "boston_input[11]     0.0097      0.003      3.251      0.001       0.004       0.015\n",
              "boston_input[12]    -0.4237      0.055     -7.700      0.000      -0.532      -0.315\n",
              "==============================================================================\n",
              "Omnibus:                      161.243   Durbin-Watson:                   1.247\n",
              "Prob(Omnibus):                  0.000   Jarque-Bera (JB):              904.814\n",
              "Skew:                           1.657   Prob(JB):                    3.33e-197\n",
              "Kurtosis:                       9.643   Cond. No.                     1.57e+04\n",
              "==============================================================================\n",
              "\n",
              "Notes:\n",
              "[1] Standard Errors assume that the covariance matrix of the errors is correctly specified.\n",
              "[2] The condition number is large, 1.57e+04. This might indicate that there are\n",
              "strong multicollinearity or other numerical problems.\n",
              "\"\"\""
            ],
            "text/html": [
              "<table class=\"simpletable\">\n",
              "<caption>OLS Regression Results</caption>\n",
              "<tr>\n",
              "  <th>Dep. Variable:</th>      <td>boston_output</td>  <th>  R-squared:         </th> <td>   0.767</td> \n",
              "</tr>\n",
              "<tr>\n",
              "  <th>Model:</th>                   <td>OLS</td>       <th>  Adj. R-squared:    </th> <td>   0.759</td> \n",
              "</tr>\n",
              "<tr>\n",
              "  <th>Method:</th>             <td>Least Squares</td>  <th>  F-statistic:       </th> <td>   96.29</td> \n",
              "</tr>\n",
              "<tr>\n",
              "  <th>Date:</th>             <td>Mon, 20 Mar 2023</td> <th>  Prob (F-statistic):</th> <td>1.75e-111</td>\n",
              "</tr>\n",
              "<tr>\n",
              "  <th>Time:</th>                 <td>21:15:54</td>     <th>  Log-Likelihood:    </th> <td> -1143.4</td> \n",
              "</tr>\n",
              "<tr>\n",
              "  <th>No. Observations:</th>      <td>   394</td>      <th>  AIC:               </th> <td>   2315.</td> \n",
              "</tr>\n",
              "<tr>\n",
              "  <th>Df Residuals:</th>          <td>   380</td>      <th>  BIC:               </th> <td>   2370.</td> \n",
              "</tr>\n",
              "<tr>\n",
              "  <th>Df Model:</th>              <td>    13</td>      <th>                     </th>     <td> </td>    \n",
              "</tr>\n",
              "<tr>\n",
              "  <th>Covariance Type:</th>      <td>nonrobust</td>    <th>                     </th>     <td> </td>    \n",
              "</tr>\n",
              "</table>\n",
              "<table class=\"simpletable\">\n",
              "<tr>\n",
              "          <td></td>            <th>coef</th>     <th>std err</th>      <th>t</th>      <th>P>|t|</th>  <th>[0.025</th>    <th>0.975]</th>  \n",
              "</tr>\n",
              "<tr>\n",
              "  <th>Intercept</th>        <td>   32.6801</td> <td>    5.681</td> <td>    5.752</td> <td> 0.000</td> <td>   21.509</td> <td>   43.851</td>\n",
              "</tr>\n",
              "<tr>\n",
              "  <th>boston_input[0]</th>  <td>   -0.0976</td> <td>    0.032</td> <td>   -3.007</td> <td> 0.003</td> <td>   -0.161</td> <td>   -0.034</td>\n",
              "</tr>\n",
              "<tr>\n",
              "  <th>boston_input[1]</th>  <td>    0.0489</td> <td>    0.014</td> <td>    3.397</td> <td> 0.001</td> <td>    0.021</td> <td>    0.077</td>\n",
              "</tr>\n",
              "<tr>\n",
              "  <th>boston_input[2]</th>  <td>    0.0304</td> <td>    0.066</td> <td>    0.461</td> <td> 0.645</td> <td>   -0.099</td> <td>    0.160</td>\n",
              "</tr>\n",
              "<tr>\n",
              "  <th>boston_input[3]</th>  <td>    2.7694</td> <td>    0.925</td> <td>    2.993</td> <td> 0.003</td> <td>    0.950</td> <td>    4.588</td>\n",
              "</tr>\n",
              "<tr>\n",
              "  <th>boston_input[4]</th>  <td>  -17.9690</td> <td>    4.243</td> <td>   -4.235</td> <td> 0.000</td> <td>  -26.311</td> <td>   -9.627</td>\n",
              "</tr>\n",
              "<tr>\n",
              "  <th>boston_input[5]</th>  <td>    4.2833</td> <td>    0.471</td> <td>    9.100</td> <td> 0.000</td> <td>    3.358</td> <td>    5.209</td>\n",
              "</tr>\n",
              "<tr>\n",
              "  <th>boston_input[6]</th>  <td>   -0.0130</td> <td>    0.014</td> <td>   -0.898</td> <td> 0.370</td> <td>   -0.041</td> <td>    0.015</td>\n",
              "</tr>\n",
              "<tr>\n",
              "  <th>boston_input[7]</th>  <td>   -1.4585</td> <td>    0.211</td> <td>   -6.912</td> <td> 0.000</td> <td>   -1.873</td> <td>   -1.044</td>\n",
              "</tr>\n",
              "<tr>\n",
              "  <th>boston_input[8]</th>  <td>    0.2859</td> <td>    0.069</td> <td>    4.125</td> <td> 0.000</td> <td>    0.150</td> <td>    0.422</td>\n",
              "</tr>\n",
              "<tr>\n",
              "  <th>boston_input[9]</th>  <td>   -0.0131</td> <td>    0.004</td> <td>   -3.324</td> <td> 0.001</td> <td>   -0.021</td> <td>   -0.005</td>\n",
              "</tr>\n",
              "<tr>\n",
              "  <th>boston_input[10]</th> <td>   -0.9146</td> <td>    0.141</td> <td>   -6.506</td> <td> 0.000</td> <td>   -1.191</td> <td>   -0.638</td>\n",
              "</tr>\n",
              "<tr>\n",
              "  <th>boston_input[11]</th> <td>    0.0097</td> <td>    0.003</td> <td>    3.251</td> <td> 0.001</td> <td>    0.004</td> <td>    0.015</td>\n",
              "</tr>\n",
              "<tr>\n",
              "  <th>boston_input[12]</th> <td>   -0.4237</td> <td>    0.055</td> <td>   -7.700</td> <td> 0.000</td> <td>   -0.532</td> <td>   -0.315</td>\n",
              "</tr>\n",
              "</table>\n",
              "<table class=\"simpletable\">\n",
              "<tr>\n",
              "  <th>Omnibus:</th>       <td>161.243</td> <th>  Durbin-Watson:     </th> <td>   1.247</td> \n",
              "</tr>\n",
              "<tr>\n",
              "  <th>Prob(Omnibus):</th> <td> 0.000</td>  <th>  Jarque-Bera (JB):  </th> <td> 904.814</td> \n",
              "</tr>\n",
              "<tr>\n",
              "  <th>Skew:</th>          <td> 1.657</td>  <th>  Prob(JB):          </th> <td>3.33e-197</td>\n",
              "</tr>\n",
              "<tr>\n",
              "  <th>Kurtosis:</th>      <td> 9.643</td>  <th>  Cond. No.          </th> <td>1.57e+04</td> \n",
              "</tr>\n",
              "</table><br/><br/>Notes:<br/>[1] Standard Errors assume that the covariance matrix of the errors is correctly specified.<br/>[2] The condition number is large, 1.57e+04. This might indicate that there are<br/>strong multicollinearity or other numerical problems."
            ]
          },
          "metadata": {},
          "execution_count": 13
        }
      ]
    },
    {
      "cell_type": "markdown",
      "source": [
        "##**Calcul du MSE et RMSE**\n"
      ],
      "metadata": {
        "id": "6cQI2rbA8TZw"
      }
    },
    {
      "cell_type": "code",
      "source": [
        "y_pred = model.predict(boston_input)\n",
        "mse = mean_squared_error(boston_output, y_pred)\n",
        "r2 = r2_score(boston_output, y_pred)\n",
        "\n",
        "print(\"MSE:\", mse)\n",
        "print(\"RMSE\",math.sqrt(mse))\n",
        "print(\"R²:\", r2)"
      ],
      "metadata": {
        "colab": {
          "base_uri": "https://localhost:8080/"
        },
        "id": "y5YReGaNt2sS",
        "outputId": "ed7e72f8-5414-43d6-d9f1-bfff2e74ab21"
      },
      "execution_count": null,
      "outputs": [
        {
          "output_type": "stream",
          "name": "stdout",
          "text": [
            "MSE: 19.41839793073491\n",
            "RMSE 4.406631131684941\n",
            "R²: 0.767114948467778\n"
          ]
        }
      ]
    },
    {
      "cell_type": "code",
      "source": [
        "X_ENL = df_boston\n",
        "X_ENL.drop('AGE', axis=1, inplace=True)\n",
        "X_ENL.drop('INDUS', axis=1, inplace=True)\n",
        "X_ENL"
      ],
      "metadata": {
        "colab": {
          "base_uri": "https://localhost:8080/",
          "height": 424
        },
        "id": "Z1nU_m55r5GN",
        "outputId": "86ff4bf6-57ca-4caf-c511-99826f81fc64"
      },
      "execution_count": null,
      "outputs": [
        {
          "output_type": "execute_result",
          "data": {
            "text/plain": [
              "        CRIM    ZN  CHAS    NOX     RM     DIS  RAD  TAX  PTRATIO       B  \\\n",
              "0    0.00632  18.0   0.0  0.538  6.575  4.0900    1  296     15.3  396.90   \n",
              "1    0.02731   0.0   0.0  0.469  6.421  4.9671    2  242     17.8  396.90   \n",
              "2    0.02729   0.0   0.0  0.469  7.185  4.9671    2  242     17.8  392.83   \n",
              "3    0.03237   0.0   0.0  0.458  6.998  6.0622    3  222     18.7  394.63   \n",
              "5    0.02985   0.0   0.0  0.458  6.430  6.0622    3  222     18.7  394.12   \n",
              "..       ...   ...   ...    ...    ...     ...  ...  ...      ...     ...   \n",
              "499  0.17783   0.0   0.0  0.585  5.569  2.3999    6  391     19.2  395.77   \n",
              "500  0.22438   0.0   0.0  0.585  6.027  2.4982    6  391     19.2  396.90   \n",
              "502  0.04527   0.0   0.0  0.573  6.120  2.2875    1  273     21.0  396.90   \n",
              "503  0.06076   0.0   0.0  0.573  6.976  2.1675    1  273     21.0  396.90   \n",
              "504  0.10959   0.0   0.0  0.573  6.794  2.3889    1  273     21.0  393.45   \n",
              "\n",
              "     LSTAT  \n",
              "0     4.98  \n",
              "1     9.14  \n",
              "2     4.03  \n",
              "3     2.94  \n",
              "5     5.21  \n",
              "..     ...  \n",
              "499  15.10  \n",
              "500  14.33  \n",
              "502   9.08  \n",
              "503   5.64  \n",
              "504   6.48  \n",
              "\n",
              "[394 rows x 11 columns]"
            ],
            "text/html": [
              "\n",
              "  <div id=\"df-2a59d72f-9e57-461f-afaa-531e5a12ffab\">\n",
              "    <div class=\"colab-df-container\">\n",
              "      <div>\n",
              "<style scoped>\n",
              "    .dataframe tbody tr th:only-of-type {\n",
              "        vertical-align: middle;\n",
              "    }\n",
              "\n",
              "    .dataframe tbody tr th {\n",
              "        vertical-align: top;\n",
              "    }\n",
              "\n",
              "    .dataframe thead th {\n",
              "        text-align: right;\n",
              "    }\n",
              "</style>\n",
              "<table border=\"1\" class=\"dataframe\">\n",
              "  <thead>\n",
              "    <tr style=\"text-align: right;\">\n",
              "      <th></th>\n",
              "      <th>CRIM</th>\n",
              "      <th>ZN</th>\n",
              "      <th>CHAS</th>\n",
              "      <th>NOX</th>\n",
              "      <th>RM</th>\n",
              "      <th>DIS</th>\n",
              "      <th>RAD</th>\n",
              "      <th>TAX</th>\n",
              "      <th>PTRATIO</th>\n",
              "      <th>B</th>\n",
              "      <th>LSTAT</th>\n",
              "    </tr>\n",
              "  </thead>\n",
              "  <tbody>\n",
              "    <tr>\n",
              "      <th>0</th>\n",
              "      <td>0.00632</td>\n",
              "      <td>18.0</td>\n",
              "      <td>0.0</td>\n",
              "      <td>0.538</td>\n",
              "      <td>6.575</td>\n",
              "      <td>4.0900</td>\n",
              "      <td>1</td>\n",
              "      <td>296</td>\n",
              "      <td>15.3</td>\n",
              "      <td>396.90</td>\n",
              "      <td>4.98</td>\n",
              "    </tr>\n",
              "    <tr>\n",
              "      <th>1</th>\n",
              "      <td>0.02731</td>\n",
              "      <td>0.0</td>\n",
              "      <td>0.0</td>\n",
              "      <td>0.469</td>\n",
              "      <td>6.421</td>\n",
              "      <td>4.9671</td>\n",
              "      <td>2</td>\n",
              "      <td>242</td>\n",
              "      <td>17.8</td>\n",
              "      <td>396.90</td>\n",
              "      <td>9.14</td>\n",
              "    </tr>\n",
              "    <tr>\n",
              "      <th>2</th>\n",
              "      <td>0.02729</td>\n",
              "      <td>0.0</td>\n",
              "      <td>0.0</td>\n",
              "      <td>0.469</td>\n",
              "      <td>7.185</td>\n",
              "      <td>4.9671</td>\n",
              "      <td>2</td>\n",
              "      <td>242</td>\n",
              "      <td>17.8</td>\n",
              "      <td>392.83</td>\n",
              "      <td>4.03</td>\n",
              "    </tr>\n",
              "    <tr>\n",
              "      <th>3</th>\n",
              "      <td>0.03237</td>\n",
              "      <td>0.0</td>\n",
              "      <td>0.0</td>\n",
              "      <td>0.458</td>\n",
              "      <td>6.998</td>\n",
              "      <td>6.0622</td>\n",
              "      <td>3</td>\n",
              "      <td>222</td>\n",
              "      <td>18.7</td>\n",
              "      <td>394.63</td>\n",
              "      <td>2.94</td>\n",
              "    </tr>\n",
              "    <tr>\n",
              "      <th>5</th>\n",
              "      <td>0.02985</td>\n",
              "      <td>0.0</td>\n",
              "      <td>0.0</td>\n",
              "      <td>0.458</td>\n",
              "      <td>6.430</td>\n",
              "      <td>6.0622</td>\n",
              "      <td>3</td>\n",
              "      <td>222</td>\n",
              "      <td>18.7</td>\n",
              "      <td>394.12</td>\n",
              "      <td>5.21</td>\n",
              "    </tr>\n",
              "    <tr>\n",
              "      <th>...</th>\n",
              "      <td>...</td>\n",
              "      <td>...</td>\n",
              "      <td>...</td>\n",
              "      <td>...</td>\n",
              "      <td>...</td>\n",
              "      <td>...</td>\n",
              "      <td>...</td>\n",
              "      <td>...</td>\n",
              "      <td>...</td>\n",
              "      <td>...</td>\n",
              "      <td>...</td>\n",
              "    </tr>\n",
              "    <tr>\n",
              "      <th>499</th>\n",
              "      <td>0.17783</td>\n",
              "      <td>0.0</td>\n",
              "      <td>0.0</td>\n",
              "      <td>0.585</td>\n",
              "      <td>5.569</td>\n",
              "      <td>2.3999</td>\n",
              "      <td>6</td>\n",
              "      <td>391</td>\n",
              "      <td>19.2</td>\n",
              "      <td>395.77</td>\n",
              "      <td>15.10</td>\n",
              "    </tr>\n",
              "    <tr>\n",
              "      <th>500</th>\n",
              "      <td>0.22438</td>\n",
              "      <td>0.0</td>\n",
              "      <td>0.0</td>\n",
              "      <td>0.585</td>\n",
              "      <td>6.027</td>\n",
              "      <td>2.4982</td>\n",
              "      <td>6</td>\n",
              "      <td>391</td>\n",
              "      <td>19.2</td>\n",
              "      <td>396.90</td>\n",
              "      <td>14.33</td>\n",
              "    </tr>\n",
              "    <tr>\n",
              "      <th>502</th>\n",
              "      <td>0.04527</td>\n",
              "      <td>0.0</td>\n",
              "      <td>0.0</td>\n",
              "      <td>0.573</td>\n",
              "      <td>6.120</td>\n",
              "      <td>2.2875</td>\n",
              "      <td>1</td>\n",
              "      <td>273</td>\n",
              "      <td>21.0</td>\n",
              "      <td>396.90</td>\n",
              "      <td>9.08</td>\n",
              "    </tr>\n",
              "    <tr>\n",
              "      <th>503</th>\n",
              "      <td>0.06076</td>\n",
              "      <td>0.0</td>\n",
              "      <td>0.0</td>\n",
              "      <td>0.573</td>\n",
              "      <td>6.976</td>\n",
              "      <td>2.1675</td>\n",
              "      <td>1</td>\n",
              "      <td>273</td>\n",
              "      <td>21.0</td>\n",
              "      <td>396.90</td>\n",
              "      <td>5.64</td>\n",
              "    </tr>\n",
              "    <tr>\n",
              "      <th>504</th>\n",
              "      <td>0.10959</td>\n",
              "      <td>0.0</td>\n",
              "      <td>0.0</td>\n",
              "      <td>0.573</td>\n",
              "      <td>6.794</td>\n",
              "      <td>2.3889</td>\n",
              "      <td>1</td>\n",
              "      <td>273</td>\n",
              "      <td>21.0</td>\n",
              "      <td>393.45</td>\n",
              "      <td>6.48</td>\n",
              "    </tr>\n",
              "  </tbody>\n",
              "</table>\n",
              "<p>394 rows × 11 columns</p>\n",
              "</div>\n",
              "      <button class=\"colab-df-convert\" onclick=\"convertToInteractive('df-2a59d72f-9e57-461f-afaa-531e5a12ffab')\"\n",
              "              title=\"Convert this dataframe to an interactive table.\"\n",
              "              style=\"display:none;\">\n",
              "        \n",
              "  <svg xmlns=\"http://www.w3.org/2000/svg\" height=\"24px\"viewBox=\"0 0 24 24\"\n",
              "       width=\"24px\">\n",
              "    <path d=\"M0 0h24v24H0V0z\" fill=\"none\"/>\n",
              "    <path d=\"M18.56 5.44l.94 2.06.94-2.06 2.06-.94-2.06-.94-.94-2.06-.94 2.06-2.06.94zm-11 1L8.5 8.5l.94-2.06 2.06-.94-2.06-.94L8.5 2.5l-.94 2.06-2.06.94zm10 10l.94 2.06.94-2.06 2.06-.94-2.06-.94-.94-2.06-.94 2.06-2.06.94z\"/><path d=\"M17.41 7.96l-1.37-1.37c-.4-.4-.92-.59-1.43-.59-.52 0-1.04.2-1.43.59L10.3 9.45l-7.72 7.72c-.78.78-.78 2.05 0 2.83L4 21.41c.39.39.9.59 1.41.59.51 0 1.02-.2 1.41-.59l7.78-7.78 2.81-2.81c.8-.78.8-2.07 0-2.86zM5.41 20L4 18.59l7.72-7.72 1.47 1.35L5.41 20z\"/>\n",
              "  </svg>\n",
              "      </button>\n",
              "      \n",
              "  <style>\n",
              "    .colab-df-container {\n",
              "      display:flex;\n",
              "      flex-wrap:wrap;\n",
              "      gap: 12px;\n",
              "    }\n",
              "\n",
              "    .colab-df-convert {\n",
              "      background-color: #E8F0FE;\n",
              "      border: none;\n",
              "      border-radius: 50%;\n",
              "      cursor: pointer;\n",
              "      display: none;\n",
              "      fill: #1967D2;\n",
              "      height: 32px;\n",
              "      padding: 0 0 0 0;\n",
              "      width: 32px;\n",
              "    }\n",
              "\n",
              "    .colab-df-convert:hover {\n",
              "      background-color: #E2EBFA;\n",
              "      box-shadow: 0px 1px 2px rgba(60, 64, 67, 0.3), 0px 1px 3px 1px rgba(60, 64, 67, 0.15);\n",
              "      fill: #174EA6;\n",
              "    }\n",
              "\n",
              "    [theme=dark] .colab-df-convert {\n",
              "      background-color: #3B4455;\n",
              "      fill: #D2E3FC;\n",
              "    }\n",
              "\n",
              "    [theme=dark] .colab-df-convert:hover {\n",
              "      background-color: #434B5C;\n",
              "      box-shadow: 0px 1px 3px 1px rgba(0, 0, 0, 0.15);\n",
              "      filter: drop-shadow(0px 1px 2px rgba(0, 0, 0, 0.3));\n",
              "      fill: #FFFFFF;\n",
              "    }\n",
              "  </style>\n",
              "\n",
              "      <script>\n",
              "        const buttonEl =\n",
              "          document.querySelector('#df-2a59d72f-9e57-461f-afaa-531e5a12ffab button.colab-df-convert');\n",
              "        buttonEl.style.display =\n",
              "          google.colab.kernel.accessAllowed ? 'block' : 'none';\n",
              "\n",
              "        async function convertToInteractive(key) {\n",
              "          const element = document.querySelector('#df-2a59d72f-9e57-461f-afaa-531e5a12ffab');\n",
              "          const dataTable =\n",
              "            await google.colab.kernel.invokeFunction('convertToInteractive',\n",
              "                                                     [key], {});\n",
              "          if (!dataTable) return;\n",
              "\n",
              "          const docLinkHtml = 'Like what you see? Visit the ' +\n",
              "            '<a target=\"_blank\" href=https://colab.research.google.com/notebooks/data_table.ipynb>data table notebook</a>'\n",
              "            + ' to learn more about interactive tables.';\n",
              "          element.innerHTML = '';\n",
              "          dataTable['output_type'] = 'display_data';\n",
              "          await google.colab.output.renderOutput(dataTable, element);\n",
              "          const docLink = document.createElement('div');\n",
              "          docLink.innerHTML = docLinkHtml;\n",
              "          element.appendChild(docLink);\n",
              "        }\n",
              "      </script>\n",
              "    </div>\n",
              "  </div>\n",
              "  "
            ]
          },
          "metadata": {},
          "execution_count": 16
        }
      ]
    },
    {
      "cell_type": "markdown",
      "source": [
        "# **Regréssion linéaire en enlevant les variables à effet non linéaire**"
      ],
      "metadata": {
        "id": "xr-zcLKu8FYE"
      }
    },
    {
      "cell_type": "code",
      "source": [
        "model = smf.ols('boston_output ~ X_ENL',data= df_boston).fit()\n",
        "model.summary()"
      ],
      "metadata": {
        "colab": {
          "base_uri": "https://localhost:8080/",
          "height": 700
        },
        "id": "ggi7UCrbsN72",
        "outputId": "df7484c0-a890-422e-f758-1d2f5adb3821"
      },
      "execution_count": null,
      "outputs": [
        {
          "output_type": "execute_result",
          "data": {
            "text/plain": [
              "<class 'statsmodels.iolib.summary.Summary'>\n",
              "\"\"\"\n",
              "                            OLS Regression Results                            \n",
              "==============================================================================\n",
              "Dep. Variable:          boston_output   R-squared:                       0.767\n",
              "Model:                            OLS   Adj. R-squared:                  0.760\n",
              "Method:                 Least Squares   F-statistic:                     114.0\n",
              "Date:                Mon, 20 Mar 2023   Prob (F-statistic):          2.51e-113\n",
              "Time:                        21:16:39   Log-Likelihood:                -1143.9\n",
              "No. Observations:                 394   AIC:                             2312.\n",
              "Df Residuals:                     382   BIC:                             2360.\n",
              "Df Model:                          11                                         \n",
              "Covariance Type:            nonrobust                                         \n",
              "==============================================================================\n",
              "                 coef    std err          t      P>|t|      [0.025      0.975]\n",
              "------------------------------------------------------------------------------\n",
              "Intercept     32.9751      5.631      5.856      0.000      21.904      44.046\n",
              "X_ENL[0]      -0.0982      0.032     -3.029      0.003      -0.162      -0.034\n",
              "X_ENL[1]       0.0500      0.014      3.526      0.000       0.022       0.078\n",
              "X_ENL[2]       2.7881      0.920      3.031      0.003       0.980       4.596\n",
              "X_ENL[3]     -18.4678      3.895     -4.741      0.000     -26.127     -10.809\n",
              "X_ENL[4]       4.1670      0.455      9.149      0.000       3.271       5.063\n",
              "X_ENL[5]      -1.4206      0.197     -7.201      0.000      -1.808      -1.033\n",
              "X_ENL[6]       0.2823      0.066      4.309      0.000       0.153       0.411\n",
              "X_ENL[7]      -0.0124      0.003     -3.573      0.000      -0.019      -0.006\n",
              "X_ENL[8]      -0.9148      0.139     -6.599      0.000      -1.187      -0.642\n",
              "X_ENL[9]       0.0095      0.003      3.201      0.001       0.004       0.015\n",
              "X_ENL[10]     -0.4400      0.052     -8.532      0.000      -0.541      -0.339\n",
              "==============================================================================\n",
              "Omnibus:                      157.148   Durbin-Watson:                   1.258\n",
              "Prob(Omnibus):                  0.000   Jarque-Bera (JB):              843.847\n",
              "Skew:                           1.624   Prob(JB):                    5.77e-184\n",
              "Kurtosis:                       9.391   Cond. No.                     1.52e+04\n",
              "==============================================================================\n",
              "\n",
              "Notes:\n",
              "[1] Standard Errors assume that the covariance matrix of the errors is correctly specified.\n",
              "[2] The condition number is large, 1.52e+04. This might indicate that there are\n",
              "strong multicollinearity or other numerical problems.\n",
              "\"\"\""
            ],
            "text/html": [
              "<table class=\"simpletable\">\n",
              "<caption>OLS Regression Results</caption>\n",
              "<tr>\n",
              "  <th>Dep. Variable:</th>      <td>boston_output</td>  <th>  R-squared:         </th> <td>   0.767</td> \n",
              "</tr>\n",
              "<tr>\n",
              "  <th>Model:</th>                   <td>OLS</td>       <th>  Adj. R-squared:    </th> <td>   0.760</td> \n",
              "</tr>\n",
              "<tr>\n",
              "  <th>Method:</th>             <td>Least Squares</td>  <th>  F-statistic:       </th> <td>   114.0</td> \n",
              "</tr>\n",
              "<tr>\n",
              "  <th>Date:</th>             <td>Mon, 20 Mar 2023</td> <th>  Prob (F-statistic):</th> <td>2.51e-113</td>\n",
              "</tr>\n",
              "<tr>\n",
              "  <th>Time:</th>                 <td>21:16:39</td>     <th>  Log-Likelihood:    </th> <td> -1143.9</td> \n",
              "</tr>\n",
              "<tr>\n",
              "  <th>No. Observations:</th>      <td>   394</td>      <th>  AIC:               </th> <td>   2312.</td> \n",
              "</tr>\n",
              "<tr>\n",
              "  <th>Df Residuals:</th>          <td>   382</td>      <th>  BIC:               </th> <td>   2360.</td> \n",
              "</tr>\n",
              "<tr>\n",
              "  <th>Df Model:</th>              <td>    11</td>      <th>                     </th>     <td> </td>    \n",
              "</tr>\n",
              "<tr>\n",
              "  <th>Covariance Type:</th>      <td>nonrobust</td>    <th>                     </th>     <td> </td>    \n",
              "</tr>\n",
              "</table>\n",
              "<table class=\"simpletable\">\n",
              "<tr>\n",
              "      <td></td>         <th>coef</th>     <th>std err</th>      <th>t</th>      <th>P>|t|</th>  <th>[0.025</th>    <th>0.975]</th>  \n",
              "</tr>\n",
              "<tr>\n",
              "  <th>Intercept</th> <td>   32.9751</td> <td>    5.631</td> <td>    5.856</td> <td> 0.000</td> <td>   21.904</td> <td>   44.046</td>\n",
              "</tr>\n",
              "<tr>\n",
              "  <th>X_ENL[0]</th>  <td>   -0.0982</td> <td>    0.032</td> <td>   -3.029</td> <td> 0.003</td> <td>   -0.162</td> <td>   -0.034</td>\n",
              "</tr>\n",
              "<tr>\n",
              "  <th>X_ENL[1]</th>  <td>    0.0500</td> <td>    0.014</td> <td>    3.526</td> <td> 0.000</td> <td>    0.022</td> <td>    0.078</td>\n",
              "</tr>\n",
              "<tr>\n",
              "  <th>X_ENL[2]</th>  <td>    2.7881</td> <td>    0.920</td> <td>    3.031</td> <td> 0.003</td> <td>    0.980</td> <td>    4.596</td>\n",
              "</tr>\n",
              "<tr>\n",
              "  <th>X_ENL[3]</th>  <td>  -18.4678</td> <td>    3.895</td> <td>   -4.741</td> <td> 0.000</td> <td>  -26.127</td> <td>  -10.809</td>\n",
              "</tr>\n",
              "<tr>\n",
              "  <th>X_ENL[4]</th>  <td>    4.1670</td> <td>    0.455</td> <td>    9.149</td> <td> 0.000</td> <td>    3.271</td> <td>    5.063</td>\n",
              "</tr>\n",
              "<tr>\n",
              "  <th>X_ENL[5]</th>  <td>   -1.4206</td> <td>    0.197</td> <td>   -7.201</td> <td> 0.000</td> <td>   -1.808</td> <td>   -1.033</td>\n",
              "</tr>\n",
              "<tr>\n",
              "  <th>X_ENL[6]</th>  <td>    0.2823</td> <td>    0.066</td> <td>    4.309</td> <td> 0.000</td> <td>    0.153</td> <td>    0.411</td>\n",
              "</tr>\n",
              "<tr>\n",
              "  <th>X_ENL[7]</th>  <td>   -0.0124</td> <td>    0.003</td> <td>   -3.573</td> <td> 0.000</td> <td>   -0.019</td> <td>   -0.006</td>\n",
              "</tr>\n",
              "<tr>\n",
              "  <th>X_ENL[8]</th>  <td>   -0.9148</td> <td>    0.139</td> <td>   -6.599</td> <td> 0.000</td> <td>   -1.187</td> <td>   -0.642</td>\n",
              "</tr>\n",
              "<tr>\n",
              "  <th>X_ENL[9]</th>  <td>    0.0095</td> <td>    0.003</td> <td>    3.201</td> <td> 0.001</td> <td>    0.004</td> <td>    0.015</td>\n",
              "</tr>\n",
              "<tr>\n",
              "  <th>X_ENL[10]</th> <td>   -0.4400</td> <td>    0.052</td> <td>   -8.532</td> <td> 0.000</td> <td>   -0.541</td> <td>   -0.339</td>\n",
              "</tr>\n",
              "</table>\n",
              "<table class=\"simpletable\">\n",
              "<tr>\n",
              "  <th>Omnibus:</th>       <td>157.148</td> <th>  Durbin-Watson:     </th> <td>   1.258</td> \n",
              "</tr>\n",
              "<tr>\n",
              "  <th>Prob(Omnibus):</th> <td> 0.000</td>  <th>  Jarque-Bera (JB):  </th> <td> 843.847</td> \n",
              "</tr>\n",
              "<tr>\n",
              "  <th>Skew:</th>          <td> 1.624</td>  <th>  Prob(JB):          </th> <td>5.77e-184</td>\n",
              "</tr>\n",
              "<tr>\n",
              "  <th>Kurtosis:</th>      <td> 9.391</td>  <th>  Cond. No.          </th> <td>1.52e+04</td> \n",
              "</tr>\n",
              "</table><br/><br/>Notes:<br/>[1] Standard Errors assume that the covariance matrix of the errors is correctly specified.<br/>[2] The condition number is large, 1.52e+04. This might indicate that there are<br/>strong multicollinearity or other numerical problems."
            ]
          },
          "metadata": {},
          "execution_count": 17
        }
      ]
    },
    {
      "cell_type": "code",
      "source": [
        "y_pred = model.predict(X_ENL)\n",
        "mse = mean_squared_error(boston_output, y_pred)\n",
        "r2 = r2_score(boston_output, y_pred)\n",
        "\n",
        "print(\"MSE:\", mse)\n",
        "print(\"RMSE\",math.sqrt(mse))\n",
        "print(\"R²:\", r2)"
      ],
      "metadata": {
        "colab": {
          "base_uri": "https://localhost:8080/"
        },
        "id": "mDjbM9FlsfyW",
        "outputId": "a7531dcf-f677-4235-b2ac-0913da4b6301"
      },
      "execution_count": null,
      "outputs": [
        {
          "output_type": "stream",
          "name": "stdout",
          "text": [
            "MSE: 19.469661337814802\n",
            "RMSE 4.412443918942744\n",
            "R²: 0.7665001458850879\n"
          ]
        }
      ]
    },
    {
      "cell_type": "markdown",
      "source": [
        "# Régression linéaire sur les composantes principales d'une ACP"
      ],
      "metadata": {
        "id": "Coxmb_-w_urW"
      }
    },
    {
      "cell_type": "markdown",
      "source": [
        "##**Normaliser les données**"
      ],
      "metadata": {
        "id": "oqkmTlan3jwn"
      }
    },
    {
      "cell_type": "code",
      "source": [
        "from sklearn.preprocessing import StandardScaler\n",
        "from sklearn.decomposition import PCA\n",
        "df_boston_PCA = pd.read_csv('HousingData.csv')\n",
        "df_boston_PCA = df_boston_PCA.dropna() # enlever les individus possèdant une variable NULL\n",
        "scale = StandardScaler().fit_transform(df_boston_PCA)\n",
        "columns_val = ['CRIM ','ZN','IND','CHAS','NOX','RM','AGE','DIS','RAD','TAX','PTRATIO','B','LSTAT','MEDV']\n",
        "df_boston_PCA = pd.DataFrame(data = scale,columns = columns_val)\n",
        "df_boston_PCA"
      ],
      "metadata": {
        "colab": {
          "base_uri": "https://localhost:8080/",
          "height": 468
        },
        "id": "GEkJkAe0_0Ch",
        "outputId": "76ddc118-5a60-4832-ba6b-8cf4c22ffa2d"
      },
      "execution_count": null,
      "outputs": [
        {
          "output_type": "execute_result",
          "data": {
            "text/plain": [
              "        CRIM         ZN       IND      CHAS       NOX        RM       AGE  \\\n",
              "0   -0.400818  0.273342 -1.259620 -0.271237 -0.134687  0.423161 -0.134014   \n",
              "1   -0.398535 -0.479051 -0.569724 -0.271237 -0.745475  0.202245  0.357849   \n",
              "2   -0.398537 -0.479051 -0.569724 -0.271237 -0.745475  1.298216 -0.281214   \n",
              "3   -0.397984 -0.479051 -1.278462 -0.271237 -0.842847  1.029962 -0.830521   \n",
              "4   -0.398258 -0.479051 -1.278462 -0.271237 -0.842847  0.215156 -0.367380   \n",
              "..        ...       ...       ...       ...       ...       ...       ...   \n",
              "389 -0.382157 -0.479051 -0.189991 -0.271237  0.281356 -1.019964  0.163976   \n",
              "390 -0.377092 -0.479051 -0.189991 -0.271237  0.281356 -0.362955  0.386570   \n",
              "391 -0.396580 -0.479051  0.134666 -0.271237  0.175132 -0.229545  0.278863   \n",
              "392 -0.394895 -0.479051  0.134666 -0.271237  0.175132  0.998402  0.792268   \n",
              "393 -0.389582 -0.479051  0.134666 -0.271237  0.175132  0.737320  0.731233   \n",
              "\n",
              "          DIS       RAD       TAX   PTRATIO         B     LSTAT      MEDV  \n",
              "0    0.135851 -0.974609 -0.656944 -1.496303  0.430740 -1.067126  0.179640  \n",
              "1    0.554334 -0.858633 -0.978184 -0.340879  0.430740 -0.497196 -0.083191  \n",
              "2    0.554334 -0.858633 -0.978184 -0.340879  0.385097 -1.197278  1.351424  \n",
              "3    1.076829 -0.742657 -1.097162  0.075073  0.405283 -1.346610  1.209058  \n",
              "4    1.076829 -0.742657 -1.097162  0.075073  0.399564 -1.035615  0.694349  \n",
              "..        ...       ...       ...       ...       ...       ...       ...  \n",
              "389 -0.670530 -0.394730 -0.091800  0.306158  0.418068  0.319337 -0.532192  \n",
              "390 -0.623629 -0.394730 -0.091800  0.306158  0.430740  0.213845 -0.608851  \n",
              "391 -0.724158 -0.974609 -0.793769  1.138063  0.430740 -0.505417 -0.192703  \n",
              "392 -0.781413 -0.974609 -0.793769  1.138063  0.430740 -0.976704  0.168688  \n",
              "393 -0.675778 -0.974609 -0.793769  1.138063  0.392050 -0.861622 -0.039386  \n",
              "\n",
              "[394 rows x 14 columns]"
            ],
            "text/html": [
              "\n",
              "  <div id=\"df-403d3385-10b9-493f-a65b-c0e0afd70053\">\n",
              "    <div class=\"colab-df-container\">\n",
              "      <div>\n",
              "<style scoped>\n",
              "    .dataframe tbody tr th:only-of-type {\n",
              "        vertical-align: middle;\n",
              "    }\n",
              "\n",
              "    .dataframe tbody tr th {\n",
              "        vertical-align: top;\n",
              "    }\n",
              "\n",
              "    .dataframe thead th {\n",
              "        text-align: right;\n",
              "    }\n",
              "</style>\n",
              "<table border=\"1\" class=\"dataframe\">\n",
              "  <thead>\n",
              "    <tr style=\"text-align: right;\">\n",
              "      <th></th>\n",
              "      <th>CRIM</th>\n",
              "      <th>ZN</th>\n",
              "      <th>IND</th>\n",
              "      <th>CHAS</th>\n",
              "      <th>NOX</th>\n",
              "      <th>RM</th>\n",
              "      <th>AGE</th>\n",
              "      <th>DIS</th>\n",
              "      <th>RAD</th>\n",
              "      <th>TAX</th>\n",
              "      <th>PTRATIO</th>\n",
              "      <th>B</th>\n",
              "      <th>LSTAT</th>\n",
              "      <th>MEDV</th>\n",
              "    </tr>\n",
              "  </thead>\n",
              "  <tbody>\n",
              "    <tr>\n",
              "      <th>0</th>\n",
              "      <td>-0.400818</td>\n",
              "      <td>0.273342</td>\n",
              "      <td>-1.259620</td>\n",
              "      <td>-0.271237</td>\n",
              "      <td>-0.134687</td>\n",
              "      <td>0.423161</td>\n",
              "      <td>-0.134014</td>\n",
              "      <td>0.135851</td>\n",
              "      <td>-0.974609</td>\n",
              "      <td>-0.656944</td>\n",
              "      <td>-1.496303</td>\n",
              "      <td>0.430740</td>\n",
              "      <td>-1.067126</td>\n",
              "      <td>0.179640</td>\n",
              "    </tr>\n",
              "    <tr>\n",
              "      <th>1</th>\n",
              "      <td>-0.398535</td>\n",
              "      <td>-0.479051</td>\n",
              "      <td>-0.569724</td>\n",
              "      <td>-0.271237</td>\n",
              "      <td>-0.745475</td>\n",
              "      <td>0.202245</td>\n",
              "      <td>0.357849</td>\n",
              "      <td>0.554334</td>\n",
              "      <td>-0.858633</td>\n",
              "      <td>-0.978184</td>\n",
              "      <td>-0.340879</td>\n",
              "      <td>0.430740</td>\n",
              "      <td>-0.497196</td>\n",
              "      <td>-0.083191</td>\n",
              "    </tr>\n",
              "    <tr>\n",
              "      <th>2</th>\n",
              "      <td>-0.398537</td>\n",
              "      <td>-0.479051</td>\n",
              "      <td>-0.569724</td>\n",
              "      <td>-0.271237</td>\n",
              "      <td>-0.745475</td>\n",
              "      <td>1.298216</td>\n",
              "      <td>-0.281214</td>\n",
              "      <td>0.554334</td>\n",
              "      <td>-0.858633</td>\n",
              "      <td>-0.978184</td>\n",
              "      <td>-0.340879</td>\n",
              "      <td>0.385097</td>\n",
              "      <td>-1.197278</td>\n",
              "      <td>1.351424</td>\n",
              "    </tr>\n",
              "    <tr>\n",
              "      <th>3</th>\n",
              "      <td>-0.397984</td>\n",
              "      <td>-0.479051</td>\n",
              "      <td>-1.278462</td>\n",
              "      <td>-0.271237</td>\n",
              "      <td>-0.842847</td>\n",
              "      <td>1.029962</td>\n",
              "      <td>-0.830521</td>\n",
              "      <td>1.076829</td>\n",
              "      <td>-0.742657</td>\n",
              "      <td>-1.097162</td>\n",
              "      <td>0.075073</td>\n",
              "      <td>0.405283</td>\n",
              "      <td>-1.346610</td>\n",
              "      <td>1.209058</td>\n",
              "    </tr>\n",
              "    <tr>\n",
              "      <th>4</th>\n",
              "      <td>-0.398258</td>\n",
              "      <td>-0.479051</td>\n",
              "      <td>-1.278462</td>\n",
              "      <td>-0.271237</td>\n",
              "      <td>-0.842847</td>\n",
              "      <td>0.215156</td>\n",
              "      <td>-0.367380</td>\n",
              "      <td>1.076829</td>\n",
              "      <td>-0.742657</td>\n",
              "      <td>-1.097162</td>\n",
              "      <td>0.075073</td>\n",
              "      <td>0.399564</td>\n",
              "      <td>-1.035615</td>\n",
              "      <td>0.694349</td>\n",
              "    </tr>\n",
              "    <tr>\n",
              "      <th>...</th>\n",
              "      <td>...</td>\n",
              "      <td>...</td>\n",
              "      <td>...</td>\n",
              "      <td>...</td>\n",
              "      <td>...</td>\n",
              "      <td>...</td>\n",
              "      <td>...</td>\n",
              "      <td>...</td>\n",
              "      <td>...</td>\n",
              "      <td>...</td>\n",
              "      <td>...</td>\n",
              "      <td>...</td>\n",
              "      <td>...</td>\n",
              "      <td>...</td>\n",
              "    </tr>\n",
              "    <tr>\n",
              "      <th>389</th>\n",
              "      <td>-0.382157</td>\n",
              "      <td>-0.479051</td>\n",
              "      <td>-0.189991</td>\n",
              "      <td>-0.271237</td>\n",
              "      <td>0.281356</td>\n",
              "      <td>-1.019964</td>\n",
              "      <td>0.163976</td>\n",
              "      <td>-0.670530</td>\n",
              "      <td>-0.394730</td>\n",
              "      <td>-0.091800</td>\n",
              "      <td>0.306158</td>\n",
              "      <td>0.418068</td>\n",
              "      <td>0.319337</td>\n",
              "      <td>-0.532192</td>\n",
              "    </tr>\n",
              "    <tr>\n",
              "      <th>390</th>\n",
              "      <td>-0.377092</td>\n",
              "      <td>-0.479051</td>\n",
              "      <td>-0.189991</td>\n",
              "      <td>-0.271237</td>\n",
              "      <td>0.281356</td>\n",
              "      <td>-0.362955</td>\n",
              "      <td>0.386570</td>\n",
              "      <td>-0.623629</td>\n",
              "      <td>-0.394730</td>\n",
              "      <td>-0.091800</td>\n",
              "      <td>0.306158</td>\n",
              "      <td>0.430740</td>\n",
              "      <td>0.213845</td>\n",
              "      <td>-0.608851</td>\n",
              "    </tr>\n",
              "    <tr>\n",
              "      <th>391</th>\n",
              "      <td>-0.396580</td>\n",
              "      <td>-0.479051</td>\n",
              "      <td>0.134666</td>\n",
              "      <td>-0.271237</td>\n",
              "      <td>0.175132</td>\n",
              "      <td>-0.229545</td>\n",
              "      <td>0.278863</td>\n",
              "      <td>-0.724158</td>\n",
              "      <td>-0.974609</td>\n",
              "      <td>-0.793769</td>\n",
              "      <td>1.138063</td>\n",
              "      <td>0.430740</td>\n",
              "      <td>-0.505417</td>\n",
              "      <td>-0.192703</td>\n",
              "    </tr>\n",
              "    <tr>\n",
              "      <th>392</th>\n",
              "      <td>-0.394895</td>\n",
              "      <td>-0.479051</td>\n",
              "      <td>0.134666</td>\n",
              "      <td>-0.271237</td>\n",
              "      <td>0.175132</td>\n",
              "      <td>0.998402</td>\n",
              "      <td>0.792268</td>\n",
              "      <td>-0.781413</td>\n",
              "      <td>-0.974609</td>\n",
              "      <td>-0.793769</td>\n",
              "      <td>1.138063</td>\n",
              "      <td>0.430740</td>\n",
              "      <td>-0.976704</td>\n",
              "      <td>0.168688</td>\n",
              "    </tr>\n",
              "    <tr>\n",
              "      <th>393</th>\n",
              "      <td>-0.389582</td>\n",
              "      <td>-0.479051</td>\n",
              "      <td>0.134666</td>\n",
              "      <td>-0.271237</td>\n",
              "      <td>0.175132</td>\n",
              "      <td>0.737320</td>\n",
              "      <td>0.731233</td>\n",
              "      <td>-0.675778</td>\n",
              "      <td>-0.974609</td>\n",
              "      <td>-0.793769</td>\n",
              "      <td>1.138063</td>\n",
              "      <td>0.392050</td>\n",
              "      <td>-0.861622</td>\n",
              "      <td>-0.039386</td>\n",
              "    </tr>\n",
              "  </tbody>\n",
              "</table>\n",
              "<p>394 rows × 14 columns</p>\n",
              "</div>\n",
              "      <button class=\"colab-df-convert\" onclick=\"convertToInteractive('df-403d3385-10b9-493f-a65b-c0e0afd70053')\"\n",
              "              title=\"Convert this dataframe to an interactive table.\"\n",
              "              style=\"display:none;\">\n",
              "        \n",
              "  <svg xmlns=\"http://www.w3.org/2000/svg\" height=\"24px\"viewBox=\"0 0 24 24\"\n",
              "       width=\"24px\">\n",
              "    <path d=\"M0 0h24v24H0V0z\" fill=\"none\"/>\n",
              "    <path d=\"M18.56 5.44l.94 2.06.94-2.06 2.06-.94-2.06-.94-.94-2.06-.94 2.06-2.06.94zm-11 1L8.5 8.5l.94-2.06 2.06-.94-2.06-.94L8.5 2.5l-.94 2.06-2.06.94zm10 10l.94 2.06.94-2.06 2.06-.94-2.06-.94-.94-2.06-.94 2.06-2.06.94z\"/><path d=\"M17.41 7.96l-1.37-1.37c-.4-.4-.92-.59-1.43-.59-.52 0-1.04.2-1.43.59L10.3 9.45l-7.72 7.72c-.78.78-.78 2.05 0 2.83L4 21.41c.39.39.9.59 1.41.59.51 0 1.02-.2 1.41-.59l7.78-7.78 2.81-2.81c.8-.78.8-2.07 0-2.86zM5.41 20L4 18.59l7.72-7.72 1.47 1.35L5.41 20z\"/>\n",
              "  </svg>\n",
              "      </button>\n",
              "      \n",
              "  <style>\n",
              "    .colab-df-container {\n",
              "      display:flex;\n",
              "      flex-wrap:wrap;\n",
              "      gap: 12px;\n",
              "    }\n",
              "\n",
              "    .colab-df-convert {\n",
              "      background-color: #E8F0FE;\n",
              "      border: none;\n",
              "      border-radius: 50%;\n",
              "      cursor: pointer;\n",
              "      display: none;\n",
              "      fill: #1967D2;\n",
              "      height: 32px;\n",
              "      padding: 0 0 0 0;\n",
              "      width: 32px;\n",
              "    }\n",
              "\n",
              "    .colab-df-convert:hover {\n",
              "      background-color: #E2EBFA;\n",
              "      box-shadow: 0px 1px 2px rgba(60, 64, 67, 0.3), 0px 1px 3px 1px rgba(60, 64, 67, 0.15);\n",
              "      fill: #174EA6;\n",
              "    }\n",
              "\n",
              "    [theme=dark] .colab-df-convert {\n",
              "      background-color: #3B4455;\n",
              "      fill: #D2E3FC;\n",
              "    }\n",
              "\n",
              "    [theme=dark] .colab-df-convert:hover {\n",
              "      background-color: #434B5C;\n",
              "      box-shadow: 0px 1px 3px 1px rgba(0, 0, 0, 0.15);\n",
              "      filter: drop-shadow(0px 1px 2px rgba(0, 0, 0, 0.3));\n",
              "      fill: #FFFFFF;\n",
              "    }\n",
              "  </style>\n",
              "\n",
              "      <script>\n",
              "        const buttonEl =\n",
              "          document.querySelector('#df-403d3385-10b9-493f-a65b-c0e0afd70053 button.colab-df-convert');\n",
              "        buttonEl.style.display =\n",
              "          google.colab.kernel.accessAllowed ? 'block' : 'none';\n",
              "\n",
              "        async function convertToInteractive(key) {\n",
              "          const element = document.querySelector('#df-403d3385-10b9-493f-a65b-c0e0afd70053');\n",
              "          const dataTable =\n",
              "            await google.colab.kernel.invokeFunction('convertToInteractive',\n",
              "                                                     [key], {});\n",
              "          if (!dataTable) return;\n",
              "\n",
              "          const docLinkHtml = 'Like what you see? Visit the ' +\n",
              "            '<a target=\"_blank\" href=https://colab.research.google.com/notebooks/data_table.ipynb>data table notebook</a>'\n",
              "            + ' to learn more about interactive tables.';\n",
              "          element.innerHTML = '';\n",
              "          dataTable['output_type'] = 'display_data';\n",
              "          await google.colab.output.renderOutput(dataTable, element);\n",
              "          const docLink = document.createElement('div');\n",
              "          docLink.innerHTML = docLinkHtml;\n",
              "          element.appendChild(docLink);\n",
              "        }\n",
              "      </script>\n",
              "    </div>\n",
              "  </div>\n",
              "  "
            ]
          },
          "metadata": {},
          "execution_count": 30
        }
      ]
    },
    {
      "cell_type": "code",
      "source": [
        "pca = PCA()\n",
        "pca.fit(df_boston_PCA)\n",
        "\n",
        "print(pca.explained_variance_)\n",
        "print(pca.explained_variance_ratio_)\n",
        "components = pca.transform(df_boston_PCA)"
      ],
      "metadata": {
        "colab": {
          "base_uri": "https://localhost:8080/"
        },
        "id": "SaD8ZfEO3rIU",
        "outputId": "75821f3a-00d1-40d5-9fae-b0ec3420c256"
      },
      "execution_count": null,
      "outputs": [
        {
          "output_type": "stream",
          "name": "stdout",
          "text": [
            "[6.62639052 1.61947583 1.35096486 0.89839442 0.82519891 0.66650946\n",
            " 0.55802168 0.3872751  0.28656904 0.23947541 0.20339882 0.17856682\n",
            " 0.13340904 0.06197351]\n",
            "[0.4721123  0.11538325 0.09625257 0.06400816 0.05879318 0.04748699\n",
            " 0.03975753 0.0275923  0.02041726 0.01706197 0.01449161 0.0127224\n",
            " 0.00950503 0.00441544]\n"
          ]
        }
      ]
    },
    {
      "cell_type": "markdown",
      "source": [
        "#**Composantes principales**"
      ],
      "metadata": {
        "id": "rrh3mu0-5zEt"
      }
    },
    {
      "cell_type": "code",
      "source": [
        "df_CPR = pd.DataFrame(data = components)\n",
        "df_CPR"
      ],
      "metadata": {
        "colab": {
          "base_uri": "https://localhost:8080/",
          "height": 468
        },
        "id": "EN3wBlg15Sp3",
        "outputId": "95f30545-2234-4e0d-ad9f-7b2b685610ab"
      },
      "execution_count": null,
      "outputs": [
        {
          "output_type": "execute_result",
          "data": {
            "text/plain": [
              "           0         1         2         3         4         5         6   \\\n",
              "0   -2.075258  0.504767 -0.283852 -0.707522  0.784169 -0.262331  0.301679   \n",
              "1   -1.367158 -0.212563 -0.959255 -0.501972  0.049020  0.300772  0.511026   \n",
              "2   -2.401694  0.859918 -0.230305 -0.809961 -0.770321  0.476235  0.477564   \n",
              "3   -2.850810  0.117816 -0.084822 -0.478162 -1.038473  0.696111  0.610975   \n",
              "4   -2.298039 -0.405239 -0.520825 -0.317174 -0.580512  0.576498  0.624553   \n",
              "..        ...       ...       ...       ...       ...       ...       ...   \n",
              "389  0.604068 -0.568277 -1.267962 -0.192873  0.116691 -0.203384  0.007841   \n",
              "390  0.503051 -0.244312 -1.107706 -0.361068 -0.066510 -0.106852  0.062608   \n",
              "391 -0.028402 -0.165991 -1.485203 -0.506250 -0.751275  0.365237  0.211158   \n",
              "392 -0.370878  0.788342 -1.137759 -0.936231 -1.256994  0.544378  0.322949   \n",
              "393 -0.260972  0.503989 -1.204570 -0.828104 -1.103185  0.543875  0.290724   \n",
              "\n",
              "           7         8         9         10        11        12        13  \n",
              "0    0.225951 -0.467597 -0.472942  0.581007 -0.039350 -0.537787  0.258895  \n",
              "1   -0.236949 -0.164219 -0.482093 -0.006375  0.533206 -0.109926 -0.126438  \n",
              "2    0.137278  0.059076 -0.219916 -0.227145  0.330710  0.361295  0.072321  \n",
              "3    0.304695 -0.359375 -0.252636  0.080951  0.111285  0.525797  0.149989  \n",
              "4    0.166443 -0.466754 -0.180388  0.346126  0.420256  0.406208  0.080993  \n",
              "..        ...       ...       ...       ...       ...       ...       ...  \n",
              "389  0.167039 -0.168394  0.338753  0.383361 -0.300609 -0.263693  0.182915  \n",
              "390 -0.189660 -0.168771 -0.021378  0.255602 -0.340001 -0.362876  0.152071  \n",
              "391 -0.169618  0.786811  0.089918  0.666609 -0.419844 -0.088004 -0.007286  \n",
              "392 -0.732731  0.863960 -0.299994  0.608651 -0.323420 -0.163180 -0.015212  \n",
              "393 -0.666058  0.829502 -0.332571  0.625441 -0.308876 -0.160123 -0.026505  \n",
              "\n",
              "[394 rows x 14 columns]"
            ],
            "text/html": [
              "\n",
              "  <div id=\"df-614e7f74-bd56-41a0-ae11-74645c695dbd\">\n",
              "    <div class=\"colab-df-container\">\n",
              "      <div>\n",
              "<style scoped>\n",
              "    .dataframe tbody tr th:only-of-type {\n",
              "        vertical-align: middle;\n",
              "    }\n",
              "\n",
              "    .dataframe tbody tr th {\n",
              "        vertical-align: top;\n",
              "    }\n",
              "\n",
              "    .dataframe thead th {\n",
              "        text-align: right;\n",
              "    }\n",
              "</style>\n",
              "<table border=\"1\" class=\"dataframe\">\n",
              "  <thead>\n",
              "    <tr style=\"text-align: right;\">\n",
              "      <th></th>\n",
              "      <th>0</th>\n",
              "      <th>1</th>\n",
              "      <th>2</th>\n",
              "      <th>3</th>\n",
              "      <th>4</th>\n",
              "      <th>5</th>\n",
              "      <th>6</th>\n",
              "      <th>7</th>\n",
              "      <th>8</th>\n",
              "      <th>9</th>\n",
              "      <th>10</th>\n",
              "      <th>11</th>\n",
              "      <th>12</th>\n",
              "      <th>13</th>\n",
              "    </tr>\n",
              "  </thead>\n",
              "  <tbody>\n",
              "    <tr>\n",
              "      <th>0</th>\n",
              "      <td>-2.075258</td>\n",
              "      <td>0.504767</td>\n",
              "      <td>-0.283852</td>\n",
              "      <td>-0.707522</td>\n",
              "      <td>0.784169</td>\n",
              "      <td>-0.262331</td>\n",
              "      <td>0.301679</td>\n",
              "      <td>0.225951</td>\n",
              "      <td>-0.467597</td>\n",
              "      <td>-0.472942</td>\n",
              "      <td>0.581007</td>\n",
              "      <td>-0.039350</td>\n",
              "      <td>-0.537787</td>\n",
              "      <td>0.258895</td>\n",
              "    </tr>\n",
              "    <tr>\n",
              "      <th>1</th>\n",
              "      <td>-1.367158</td>\n",
              "      <td>-0.212563</td>\n",
              "      <td>-0.959255</td>\n",
              "      <td>-0.501972</td>\n",
              "      <td>0.049020</td>\n",
              "      <td>0.300772</td>\n",
              "      <td>0.511026</td>\n",
              "      <td>-0.236949</td>\n",
              "      <td>-0.164219</td>\n",
              "      <td>-0.482093</td>\n",
              "      <td>-0.006375</td>\n",
              "      <td>0.533206</td>\n",
              "      <td>-0.109926</td>\n",
              "      <td>-0.126438</td>\n",
              "    </tr>\n",
              "    <tr>\n",
              "      <th>2</th>\n",
              "      <td>-2.401694</td>\n",
              "      <td>0.859918</td>\n",
              "      <td>-0.230305</td>\n",
              "      <td>-0.809961</td>\n",
              "      <td>-0.770321</td>\n",
              "      <td>0.476235</td>\n",
              "      <td>0.477564</td>\n",
              "      <td>0.137278</td>\n",
              "      <td>0.059076</td>\n",
              "      <td>-0.219916</td>\n",
              "      <td>-0.227145</td>\n",
              "      <td>0.330710</td>\n",
              "      <td>0.361295</td>\n",
              "      <td>0.072321</td>\n",
              "    </tr>\n",
              "    <tr>\n",
              "      <th>3</th>\n",
              "      <td>-2.850810</td>\n",
              "      <td>0.117816</td>\n",
              "      <td>-0.084822</td>\n",
              "      <td>-0.478162</td>\n",
              "      <td>-1.038473</td>\n",
              "      <td>0.696111</td>\n",
              "      <td>0.610975</td>\n",
              "      <td>0.304695</td>\n",
              "      <td>-0.359375</td>\n",
              "      <td>-0.252636</td>\n",
              "      <td>0.080951</td>\n",
              "      <td>0.111285</td>\n",
              "      <td>0.525797</td>\n",
              "      <td>0.149989</td>\n",
              "    </tr>\n",
              "    <tr>\n",
              "      <th>4</th>\n",
              "      <td>-2.298039</td>\n",
              "      <td>-0.405239</td>\n",
              "      <td>-0.520825</td>\n",
              "      <td>-0.317174</td>\n",
              "      <td>-0.580512</td>\n",
              "      <td>0.576498</td>\n",
              "      <td>0.624553</td>\n",
              "      <td>0.166443</td>\n",
              "      <td>-0.466754</td>\n",
              "      <td>-0.180388</td>\n",
              "      <td>0.346126</td>\n",
              "      <td>0.420256</td>\n",
              "      <td>0.406208</td>\n",
              "      <td>0.080993</td>\n",
              "    </tr>\n",
              "    <tr>\n",
              "      <th>...</th>\n",
              "      <td>...</td>\n",
              "      <td>...</td>\n",
              "      <td>...</td>\n",
              "      <td>...</td>\n",
              "      <td>...</td>\n",
              "      <td>...</td>\n",
              "      <td>...</td>\n",
              "      <td>...</td>\n",
              "      <td>...</td>\n",
              "      <td>...</td>\n",
              "      <td>...</td>\n",
              "      <td>...</td>\n",
              "      <td>...</td>\n",
              "      <td>...</td>\n",
              "    </tr>\n",
              "    <tr>\n",
              "      <th>389</th>\n",
              "      <td>0.604068</td>\n",
              "      <td>-0.568277</td>\n",
              "      <td>-1.267962</td>\n",
              "      <td>-0.192873</td>\n",
              "      <td>0.116691</td>\n",
              "      <td>-0.203384</td>\n",
              "      <td>0.007841</td>\n",
              "      <td>0.167039</td>\n",
              "      <td>-0.168394</td>\n",
              "      <td>0.338753</td>\n",
              "      <td>0.383361</td>\n",
              "      <td>-0.300609</td>\n",
              "      <td>-0.263693</td>\n",
              "      <td>0.182915</td>\n",
              "    </tr>\n",
              "    <tr>\n",
              "      <th>390</th>\n",
              "      <td>0.503051</td>\n",
              "      <td>-0.244312</td>\n",
              "      <td>-1.107706</td>\n",
              "      <td>-0.361068</td>\n",
              "      <td>-0.066510</td>\n",
              "      <td>-0.106852</td>\n",
              "      <td>0.062608</td>\n",
              "      <td>-0.189660</td>\n",
              "      <td>-0.168771</td>\n",
              "      <td>-0.021378</td>\n",
              "      <td>0.255602</td>\n",
              "      <td>-0.340001</td>\n",
              "      <td>-0.362876</td>\n",
              "      <td>0.152071</td>\n",
              "    </tr>\n",
              "    <tr>\n",
              "      <th>391</th>\n",
              "      <td>-0.028402</td>\n",
              "      <td>-0.165991</td>\n",
              "      <td>-1.485203</td>\n",
              "      <td>-0.506250</td>\n",
              "      <td>-0.751275</td>\n",
              "      <td>0.365237</td>\n",
              "      <td>0.211158</td>\n",
              "      <td>-0.169618</td>\n",
              "      <td>0.786811</td>\n",
              "      <td>0.089918</td>\n",
              "      <td>0.666609</td>\n",
              "      <td>-0.419844</td>\n",
              "      <td>-0.088004</td>\n",
              "      <td>-0.007286</td>\n",
              "    </tr>\n",
              "    <tr>\n",
              "      <th>392</th>\n",
              "      <td>-0.370878</td>\n",
              "      <td>0.788342</td>\n",
              "      <td>-1.137759</td>\n",
              "      <td>-0.936231</td>\n",
              "      <td>-1.256994</td>\n",
              "      <td>0.544378</td>\n",
              "      <td>0.322949</td>\n",
              "      <td>-0.732731</td>\n",
              "      <td>0.863960</td>\n",
              "      <td>-0.299994</td>\n",
              "      <td>0.608651</td>\n",
              "      <td>-0.323420</td>\n",
              "      <td>-0.163180</td>\n",
              "      <td>-0.015212</td>\n",
              "    </tr>\n",
              "    <tr>\n",
              "      <th>393</th>\n",
              "      <td>-0.260972</td>\n",
              "      <td>0.503989</td>\n",
              "      <td>-1.204570</td>\n",
              "      <td>-0.828104</td>\n",
              "      <td>-1.103185</td>\n",
              "      <td>0.543875</td>\n",
              "      <td>0.290724</td>\n",
              "      <td>-0.666058</td>\n",
              "      <td>0.829502</td>\n",
              "      <td>-0.332571</td>\n",
              "      <td>0.625441</td>\n",
              "      <td>-0.308876</td>\n",
              "      <td>-0.160123</td>\n",
              "      <td>-0.026505</td>\n",
              "    </tr>\n",
              "  </tbody>\n",
              "</table>\n",
              "<p>394 rows × 14 columns</p>\n",
              "</div>\n",
              "      <button class=\"colab-df-convert\" onclick=\"convertToInteractive('df-614e7f74-bd56-41a0-ae11-74645c695dbd')\"\n",
              "              title=\"Convert this dataframe to an interactive table.\"\n",
              "              style=\"display:none;\">\n",
              "        \n",
              "  <svg xmlns=\"http://www.w3.org/2000/svg\" height=\"24px\"viewBox=\"0 0 24 24\"\n",
              "       width=\"24px\">\n",
              "    <path d=\"M0 0h24v24H0V0z\" fill=\"none\"/>\n",
              "    <path d=\"M18.56 5.44l.94 2.06.94-2.06 2.06-.94-2.06-.94-.94-2.06-.94 2.06-2.06.94zm-11 1L8.5 8.5l.94-2.06 2.06-.94-2.06-.94L8.5 2.5l-.94 2.06-2.06.94zm10 10l.94 2.06.94-2.06 2.06-.94-2.06-.94-.94-2.06-.94 2.06-2.06.94z\"/><path d=\"M17.41 7.96l-1.37-1.37c-.4-.4-.92-.59-1.43-.59-.52 0-1.04.2-1.43.59L10.3 9.45l-7.72 7.72c-.78.78-.78 2.05 0 2.83L4 21.41c.39.39.9.59 1.41.59.51 0 1.02-.2 1.41-.59l7.78-7.78 2.81-2.81c.8-.78.8-2.07 0-2.86zM5.41 20L4 18.59l7.72-7.72 1.47 1.35L5.41 20z\"/>\n",
              "  </svg>\n",
              "      </button>\n",
              "      \n",
              "  <style>\n",
              "    .colab-df-container {\n",
              "      display:flex;\n",
              "      flex-wrap:wrap;\n",
              "      gap: 12px;\n",
              "    }\n",
              "\n",
              "    .colab-df-convert {\n",
              "      background-color: #E8F0FE;\n",
              "      border: none;\n",
              "      border-radius: 50%;\n",
              "      cursor: pointer;\n",
              "      display: none;\n",
              "      fill: #1967D2;\n",
              "      height: 32px;\n",
              "      padding: 0 0 0 0;\n",
              "      width: 32px;\n",
              "    }\n",
              "\n",
              "    .colab-df-convert:hover {\n",
              "      background-color: #E2EBFA;\n",
              "      box-shadow: 0px 1px 2px rgba(60, 64, 67, 0.3), 0px 1px 3px 1px rgba(60, 64, 67, 0.15);\n",
              "      fill: #174EA6;\n",
              "    }\n",
              "\n",
              "    [theme=dark] .colab-df-convert {\n",
              "      background-color: #3B4455;\n",
              "      fill: #D2E3FC;\n",
              "    }\n",
              "\n",
              "    [theme=dark] .colab-df-convert:hover {\n",
              "      background-color: #434B5C;\n",
              "      box-shadow: 0px 1px 3px 1px rgba(0, 0, 0, 0.15);\n",
              "      filter: drop-shadow(0px 1px 2px rgba(0, 0, 0, 0.3));\n",
              "      fill: #FFFFFF;\n",
              "    }\n",
              "  </style>\n",
              "\n",
              "      <script>\n",
              "        const buttonEl =\n",
              "          document.querySelector('#df-614e7f74-bd56-41a0-ae11-74645c695dbd button.colab-df-convert');\n",
              "        buttonEl.style.display =\n",
              "          google.colab.kernel.accessAllowed ? 'block' : 'none';\n",
              "\n",
              "        async function convertToInteractive(key) {\n",
              "          const element = document.querySelector('#df-614e7f74-bd56-41a0-ae11-74645c695dbd');\n",
              "          const dataTable =\n",
              "            await google.colab.kernel.invokeFunction('convertToInteractive',\n",
              "                                                     [key], {});\n",
              "          if (!dataTable) return;\n",
              "\n",
              "          const docLinkHtml = 'Like what you see? Visit the ' +\n",
              "            '<a target=\"_blank\" href=https://colab.research.google.com/notebooks/data_table.ipynb>data table notebook</a>'\n",
              "            + ' to learn more about interactive tables.';\n",
              "          element.innerHTML = '';\n",
              "          dataTable['output_type'] = 'display_data';\n",
              "          await google.colab.output.renderOutput(dataTable, element);\n",
              "          const docLink = document.createElement('div');\n",
              "          docLink.innerHTML = docLinkHtml;\n",
              "          element.appendChild(docLink);\n",
              "        }\n",
              "      </script>\n",
              "    </div>\n",
              "  </div>\n",
              "  "
            ]
          },
          "metadata": {},
          "execution_count": 32
        }
      ]
    },
    {
      "cell_type": "code",
      "source": [
        "pca_output = df_CPR[13]\n",
        "df_CPR.drop(13, axis=1, inplace=True)\n",
        "model = smf.ols('pca_output ~ df_CPR',data= df_boston_PCA).fit()"
      ],
      "metadata": {
        "id": "x41_gaBx5xQx"
      },
      "execution_count": null,
      "outputs": []
    },
    {
      "cell_type": "code",
      "source": [
        "model.summary()"
      ],
      "metadata": {
        "colab": {
          "base_uri": "https://localhost:8080/",
          "height": 708
        },
        "id": "bVDNwUiW6_Kp",
        "outputId": "45985986-d757-4237-b79d-98afc08a1409"
      },
      "execution_count": null,
      "outputs": [
        {
          "output_type": "execute_result",
          "data": {
            "text/plain": [
              "<class 'statsmodels.iolib.summary.Summary'>\n",
              "\"\"\"\n",
              "                            OLS Regression Results                            \n",
              "==============================================================================\n",
              "Dep. Variable:             pca_output   R-squared:                       0.000\n",
              "Model:                            OLS   Adj. R-squared:                 -0.034\n",
              "Method:                 Least Squares   F-statistic:                 4.264e-15\n",
              "Date:                Mon, 20 Mar 2023   Prob (F-statistic):               1.00\n",
              "Time:                        21:28:04   Log-Likelihood:                -10.695\n",
              "No. Observations:                 394   AIC:                             49.39\n",
              "Df Residuals:                     380   BIC:                             105.1\n",
              "Df Model:                          13                                         \n",
              "Covariance Type:            nonrobust                                         \n",
              "==============================================================================\n",
              "                 coef    std err          t      P>|t|      [0.025      0.975]\n",
              "------------------------------------------------------------------------------\n",
              "Intercept   5.935e-17      0.013   4.65e-15      1.000      -0.025       0.025\n",
              "df_CPR[0]  -7.601e-17      0.005  -1.53e-14      1.000      -0.010       0.010\n",
              "df_CPR[1]  -9.695e-17      0.010  -9.66e-15      1.000      -0.020       0.020\n",
              "df_CPR[2]  -1.636e-16      0.011  -1.49e-14      1.000      -0.022       0.022\n",
              "df_CPR[3]   2.061e-16      0.013   1.53e-14      1.000      -0.026       0.026\n",
              "df_CPR[4]  -2.707e-16      0.014  -1.93e-14      1.000      -0.028       0.028\n",
              "df_CPR[5]   1.943e-16      0.016   1.24e-14      1.000      -0.031       0.031\n",
              "df_CPR[6]   3.149e-16      0.017   1.84e-14      1.000      -0.034       0.034\n",
              "df_CPR[7]   2.811e-16      0.021   1.37e-14      1.000      -0.040       0.040\n",
              "df_CPR[8]  -9.604e-16      0.024  -4.03e-14      1.000      -0.047       0.047\n",
              "df_CPR[9]  -1.359e-16      0.026  -5.21e-15      1.000      -0.051       0.051\n",
              "df_CPR[10] -7.438e-17      0.028  -2.63e-15      1.000      -0.056       0.056\n",
              "df_CPR[11] -2.491e-16      0.030  -8.24e-15      1.000      -0.059       0.059\n",
              "df_CPR[12]   3.27e-16      0.035   9.35e-15      1.000      -0.069       0.069\n",
              "==============================================================================\n",
              "Omnibus:                       48.754   Durbin-Watson:                   0.778\n",
              "Prob(Omnibus):                  0.000   Jarque-Bera (JB):              268.193\n",
              "Skew:                           0.307   Prob(JB):                     5.79e-59\n",
              "Kurtosis:                       6.995   Cond. No.                         7.05\n",
              "==============================================================================\n",
              "\n",
              "Notes:\n",
              "[1] Standard Errors assume that the covariance matrix of the errors is correctly specified.\n",
              "\"\"\""
            ],
            "text/html": [
              "<table class=\"simpletable\">\n",
              "<caption>OLS Regression Results</caption>\n",
              "<tr>\n",
              "  <th>Dep. Variable:</th>       <td>pca_output</td>    <th>  R-squared:         </th> <td>   0.000</td> \n",
              "</tr>\n",
              "<tr>\n",
              "  <th>Model:</th>                   <td>OLS</td>       <th>  Adj. R-squared:    </th> <td>  -0.034</td> \n",
              "</tr>\n",
              "<tr>\n",
              "  <th>Method:</th>             <td>Least Squares</td>  <th>  F-statistic:       </th> <td>4.264e-15</td>\n",
              "</tr>\n",
              "<tr>\n",
              "  <th>Date:</th>             <td>Mon, 20 Mar 2023</td> <th>  Prob (F-statistic):</th>  <td>  1.00</td>  \n",
              "</tr>\n",
              "<tr>\n",
              "  <th>Time:</th>                 <td>21:28:04</td>     <th>  Log-Likelihood:    </th> <td> -10.695</td> \n",
              "</tr>\n",
              "<tr>\n",
              "  <th>No. Observations:</th>      <td>   394</td>      <th>  AIC:               </th> <td>   49.39</td> \n",
              "</tr>\n",
              "<tr>\n",
              "  <th>Df Residuals:</th>          <td>   380</td>      <th>  BIC:               </th> <td>   105.1</td> \n",
              "</tr>\n",
              "<tr>\n",
              "  <th>Df Model:</th>              <td>    13</td>      <th>                     </th>     <td> </td>    \n",
              "</tr>\n",
              "<tr>\n",
              "  <th>Covariance Type:</th>      <td>nonrobust</td>    <th>                     </th>     <td> </td>    \n",
              "</tr>\n",
              "</table>\n",
              "<table class=\"simpletable\">\n",
              "<tr>\n",
              "       <td></td>         <th>coef</th>     <th>std err</th>      <th>t</th>      <th>P>|t|</th>  <th>[0.025</th>    <th>0.975]</th>  \n",
              "</tr>\n",
              "<tr>\n",
              "  <th>Intercept</th>  <td> 5.935e-17</td> <td>    0.013</td> <td> 4.65e-15</td> <td> 1.000</td> <td>   -0.025</td> <td>    0.025</td>\n",
              "</tr>\n",
              "<tr>\n",
              "  <th>df_CPR[0]</th>  <td>-7.601e-17</td> <td>    0.005</td> <td>-1.53e-14</td> <td> 1.000</td> <td>   -0.010</td> <td>    0.010</td>\n",
              "</tr>\n",
              "<tr>\n",
              "  <th>df_CPR[1]</th>  <td>-9.695e-17</td> <td>    0.010</td> <td>-9.66e-15</td> <td> 1.000</td> <td>   -0.020</td> <td>    0.020</td>\n",
              "</tr>\n",
              "<tr>\n",
              "  <th>df_CPR[2]</th>  <td>-1.636e-16</td> <td>    0.011</td> <td>-1.49e-14</td> <td> 1.000</td> <td>   -0.022</td> <td>    0.022</td>\n",
              "</tr>\n",
              "<tr>\n",
              "  <th>df_CPR[3]</th>  <td> 2.061e-16</td> <td>    0.013</td> <td> 1.53e-14</td> <td> 1.000</td> <td>   -0.026</td> <td>    0.026</td>\n",
              "</tr>\n",
              "<tr>\n",
              "  <th>df_CPR[4]</th>  <td>-2.707e-16</td> <td>    0.014</td> <td>-1.93e-14</td> <td> 1.000</td> <td>   -0.028</td> <td>    0.028</td>\n",
              "</tr>\n",
              "<tr>\n",
              "  <th>df_CPR[5]</th>  <td> 1.943e-16</td> <td>    0.016</td> <td> 1.24e-14</td> <td> 1.000</td> <td>   -0.031</td> <td>    0.031</td>\n",
              "</tr>\n",
              "<tr>\n",
              "  <th>df_CPR[6]</th>  <td> 3.149e-16</td> <td>    0.017</td> <td> 1.84e-14</td> <td> 1.000</td> <td>   -0.034</td> <td>    0.034</td>\n",
              "</tr>\n",
              "<tr>\n",
              "  <th>df_CPR[7]</th>  <td> 2.811e-16</td> <td>    0.021</td> <td> 1.37e-14</td> <td> 1.000</td> <td>   -0.040</td> <td>    0.040</td>\n",
              "</tr>\n",
              "<tr>\n",
              "  <th>df_CPR[8]</th>  <td>-9.604e-16</td> <td>    0.024</td> <td>-4.03e-14</td> <td> 1.000</td> <td>   -0.047</td> <td>    0.047</td>\n",
              "</tr>\n",
              "<tr>\n",
              "  <th>df_CPR[9]</th>  <td>-1.359e-16</td> <td>    0.026</td> <td>-5.21e-15</td> <td> 1.000</td> <td>   -0.051</td> <td>    0.051</td>\n",
              "</tr>\n",
              "<tr>\n",
              "  <th>df_CPR[10]</th> <td>-7.438e-17</td> <td>    0.028</td> <td>-2.63e-15</td> <td> 1.000</td> <td>   -0.056</td> <td>    0.056</td>\n",
              "</tr>\n",
              "<tr>\n",
              "  <th>df_CPR[11]</th> <td>-2.491e-16</td> <td>    0.030</td> <td>-8.24e-15</td> <td> 1.000</td> <td>   -0.059</td> <td>    0.059</td>\n",
              "</tr>\n",
              "<tr>\n",
              "  <th>df_CPR[12]</th> <td>  3.27e-16</td> <td>    0.035</td> <td> 9.35e-15</td> <td> 1.000</td> <td>   -0.069</td> <td>    0.069</td>\n",
              "</tr>\n",
              "</table>\n",
              "<table class=\"simpletable\">\n",
              "<tr>\n",
              "  <th>Omnibus:</th>       <td>48.754</td> <th>  Durbin-Watson:     </th> <td>   0.778</td>\n",
              "</tr>\n",
              "<tr>\n",
              "  <th>Prob(Omnibus):</th> <td> 0.000</td> <th>  Jarque-Bera (JB):  </th> <td> 268.193</td>\n",
              "</tr>\n",
              "<tr>\n",
              "  <th>Skew:</th>          <td> 0.307</td> <th>  Prob(JB):          </th> <td>5.79e-59</td>\n",
              "</tr>\n",
              "<tr>\n",
              "  <th>Kurtosis:</th>      <td> 6.995</td> <th>  Cond. No.          </th> <td>    7.05</td>\n",
              "</tr>\n",
              "</table><br/><br/>Notes:<br/>[1] Standard Errors assume that the covariance matrix of the errors is correctly specified."
            ]
          },
          "metadata": {},
          "execution_count": 36
        }
      ]
    },
    {
      "cell_type": "code",
      "source": [
        "y_pred = model.predict(df_CPR)\n",
        "mse = mean_squared_error(pca_output, y_pred)\n",
        "r2 = r2_score(pca_output, y_pred)\n",
        "\n",
        "print(\"MSE:\", mse)\n",
        "print(\"RMSE\",math.sqrt(mse))\n",
        "print(\"R²:\", r2)"
      ],
      "metadata": {
        "colab": {
          "base_uri": "https://localhost:8080/"
        },
        "id": "EQq0EizP7IVC",
        "outputId": "eedaea4f-2772-48c0-8540-9922ea33028d"
      },
      "execution_count": null,
      "outputs": [
        {
          "output_type": "stream",
          "name": "stdout",
          "text": [
            "MSE: 0.06181621857342855\n",
            "RMSE 0.24862867608831557\n",
            "R²: 0.0\n"
          ]
        }
      ]
    },
    {
      "cell_type": "markdown",
      "source": [
        "# **Regréssion linéaire en utilisant Ridge**"
      ],
      "metadata": {
        "id": "TZUDNrhg7l0t"
      }
    },
    {
      "cell_type": "code",
      "source": [
        "from sklearn.linear_model import Ridge\n",
        "from sklearn.model_selection import train_test_split"
      ],
      "metadata": {
        "id": "FBysrerr7v3o"
      },
      "execution_count": null,
      "outputs": []
    },
    {
      "cell_type": "code",
      "source": [
        "df_Ridge = pd.read_csv('HousingData.csv')\n",
        "df_Ridge = df_Ridge.dropna() # enlever les individus possèdant une variable NULL"
      ],
      "metadata": {
        "id": "_WUbFMWO8IWh"
      },
      "execution_count": null,
      "outputs": []
    },
    {
      "cell_type": "code",
      "source": [
        "X = df_Ridge.drop('MEDV', axis=1)\n",
        "y = df_Ridge['MEDV']\n",
        "X_train, X_test, y_train, y_test = train_test_split(X, y, test_size=0.3, random_state=42)"
      ],
      "metadata": {
        "id": "Q_aOb4L58W66"
      },
      "execution_count": null,
      "outputs": []
    },
    {
      "cell_type": "code",
      "source": [
        "scaler = StandardScaler()\n",
        "X_train_scaled = scaler.fit_transform(X_train)\n",
        "X_test_scaled = scaler.transform(X_test)\n"
      ],
      "metadata": {
        "id": "I3h6csz88gR-"
      },
      "execution_count": null,
      "outputs": []
    },
    {
      "cell_type": "code",
      "source": [
        "ridge = Ridge(alpha=0.1)\n",
        "ridge.fit(X_train_scaled, y_train)"
      ],
      "metadata": {
        "colab": {
          "base_uri": "https://localhost:8080/",
          "height": 74
        },
        "id": "RGtf1MGL8m7m",
        "outputId": "c63dcb99-b085-4874-fc77-ed32ba49fae6"
      },
      "execution_count": null,
      "outputs": [
        {
          "output_type": "execute_result",
          "data": {
            "text/plain": [
              "Ridge(alpha=0.1)"
            ],
            "text/html": [
              "<style>#sk-container-id-3 {color: black;background-color: white;}#sk-container-id-3 pre{padding: 0;}#sk-container-id-3 div.sk-toggleable {background-color: white;}#sk-container-id-3 label.sk-toggleable__label {cursor: pointer;display: block;width: 100%;margin-bottom: 0;padding: 0.3em;box-sizing: border-box;text-align: center;}#sk-container-id-3 label.sk-toggleable__label-arrow:before {content: \"▸\";float: left;margin-right: 0.25em;color: #696969;}#sk-container-id-3 label.sk-toggleable__label-arrow:hover:before {color: black;}#sk-container-id-3 div.sk-estimator:hover label.sk-toggleable__label-arrow:before {color: black;}#sk-container-id-3 div.sk-toggleable__content {max-height: 0;max-width: 0;overflow: hidden;text-align: left;background-color: #f0f8ff;}#sk-container-id-3 div.sk-toggleable__content pre {margin: 0.2em;color: black;border-radius: 0.25em;background-color: #f0f8ff;}#sk-container-id-3 input.sk-toggleable__control:checked~div.sk-toggleable__content {max-height: 200px;max-width: 100%;overflow: auto;}#sk-container-id-3 input.sk-toggleable__control:checked~label.sk-toggleable__label-arrow:before {content: \"▾\";}#sk-container-id-3 div.sk-estimator input.sk-toggleable__control:checked~label.sk-toggleable__label {background-color: #d4ebff;}#sk-container-id-3 div.sk-label input.sk-toggleable__control:checked~label.sk-toggleable__label {background-color: #d4ebff;}#sk-container-id-3 input.sk-hidden--visually {border: 0;clip: rect(1px 1px 1px 1px);clip: rect(1px, 1px, 1px, 1px);height: 1px;margin: -1px;overflow: hidden;padding: 0;position: absolute;width: 1px;}#sk-container-id-3 div.sk-estimator {font-family: monospace;background-color: #f0f8ff;border: 1px dotted black;border-radius: 0.25em;box-sizing: border-box;margin-bottom: 0.5em;}#sk-container-id-3 div.sk-estimator:hover {background-color: #d4ebff;}#sk-container-id-3 div.sk-parallel-item::after {content: \"\";width: 100%;border-bottom: 1px solid gray;flex-grow: 1;}#sk-container-id-3 div.sk-label:hover label.sk-toggleable__label {background-color: #d4ebff;}#sk-container-id-3 div.sk-serial::before {content: \"\";position: absolute;border-left: 1px solid gray;box-sizing: border-box;top: 0;bottom: 0;left: 50%;z-index: 0;}#sk-container-id-3 div.sk-serial {display: flex;flex-direction: column;align-items: center;background-color: white;padding-right: 0.2em;padding-left: 0.2em;position: relative;}#sk-container-id-3 div.sk-item {position: relative;z-index: 1;}#sk-container-id-3 div.sk-parallel {display: flex;align-items: stretch;justify-content: center;background-color: white;position: relative;}#sk-container-id-3 div.sk-item::before, #sk-container-id-3 div.sk-parallel-item::before {content: \"\";position: absolute;border-left: 1px solid gray;box-sizing: border-box;top: 0;bottom: 0;left: 50%;z-index: -1;}#sk-container-id-3 div.sk-parallel-item {display: flex;flex-direction: column;z-index: 1;position: relative;background-color: white;}#sk-container-id-3 div.sk-parallel-item:first-child::after {align-self: flex-end;width: 50%;}#sk-container-id-3 div.sk-parallel-item:last-child::after {align-self: flex-start;width: 50%;}#sk-container-id-3 div.sk-parallel-item:only-child::after {width: 0;}#sk-container-id-3 div.sk-dashed-wrapped {border: 1px dashed gray;margin: 0 0.4em 0.5em 0.4em;box-sizing: border-box;padding-bottom: 0.4em;background-color: white;}#sk-container-id-3 div.sk-label label {font-family: monospace;font-weight: bold;display: inline-block;line-height: 1.2em;}#sk-container-id-3 div.sk-label-container {text-align: center;}#sk-container-id-3 div.sk-container {/* jupyter's `normalize.less` sets `[hidden] { display: none; }` but bootstrap.min.css set `[hidden] { display: none !important; }` so we also need the `!important` here to be able to override the default hidden behavior on the sphinx rendered scikit-learn.org. See: https://github.com/scikit-learn/scikit-learn/issues/21755 */display: inline-block !important;position: relative;}#sk-container-id-3 div.sk-text-repr-fallback {display: none;}</style><div id=\"sk-container-id-3\" class=\"sk-top-container\"><div class=\"sk-text-repr-fallback\"><pre>Ridge(alpha=0.1)</pre><b>In a Jupyter environment, please rerun this cell to show the HTML representation or trust the notebook. <br />On GitHub, the HTML representation is unable to render, please try loading this page with nbviewer.org.</b></div><div class=\"sk-container\" hidden><div class=\"sk-item\"><div class=\"sk-estimator sk-toggleable\"><input class=\"sk-toggleable__control sk-hidden--visually\" id=\"sk-estimator-id-3\" type=\"checkbox\" checked><label for=\"sk-estimator-id-3\" class=\"sk-toggleable__label sk-toggleable__label-arrow\">Ridge</label><div class=\"sk-toggleable__content\"><pre>Ridge(alpha=0.1)</pre></div></div></div></div></div>"
            ]
          },
          "metadata": {},
          "execution_count": 58
        }
      ]
    },
    {
      "cell_type": "code",
      "source": [
        "score = ridge.score(X_test_scaled, y_test)\n",
        "print(\"R² sur l'ensemble de test : {:.3f}\".format(score))"
      ],
      "metadata": {
        "colab": {
          "base_uri": "https://localhost:8080/"
        },
        "id": "vZDzTXzM8sH1",
        "outputId": "0fdda1d5-8c55-4d24-f231-22cbfbf3e917"
      },
      "execution_count": null,
      "outputs": [
        {
          "output_type": "stream",
          "name": "stdout",
          "text": [
            "R² sur l'ensemble de test : 0.691\n"
          ]
        }
      ]
    },
    {
      "cell_type": "code",
      "source": [
        "y_pred = ridge.predict(X_test_scaled)\n",
        "mse = mean_squared_error(y_test, y_pred)\n",
        "print(\"MSE:\", mse)\n",
        "print(\"RMSE\",math.sqrt(mse))"
      ],
      "metadata": {
        "colab": {
          "base_uri": "https://localhost:8080/"
        },
        "id": "c4xaElZD8vAw",
        "outputId": "07ba59d9-c017-48da-dd4e-40a21485734e"
      },
      "execution_count": null,
      "outputs": [
        {
          "output_type": "stream",
          "name": "stdout",
          "text": [
            "MSE: 28.870627632433145\n",
            "RMSE 5.3731394577502956\n"
          ]
        }
      ]
    },
    {
      "cell_type": "code",
      "source": [
        "import matplotlib.pyplot as plt\n",
        "\n",
        "# Tracer le nuage de points avec les vraies valeurs\n",
        "plt.scatter(y_test, y_test, alpha=0.5)\n",
        "\n",
        "# Tracer les valeurs prédites\n",
        "plt.scatter(y_test, y_pred, alpha=0.5)\n",
        "\n",
        "# Ajouter un titre et des labels d'axes\n",
        "plt.title('Comparaison des valeurs prédites et des vraies valeurs')\n",
        "plt.xlabel('Vraies valeurs')\n",
        "plt.ylabel('Valeurs prédites')\n",
        "\n",
        "# Afficher le graphique\n",
        "plt.show()"
      ],
      "metadata": {
        "colab": {
          "base_uri": "https://localhost:8080/",
          "height": 295
        },
        "id": "F05as96E-9Hp",
        "outputId": "cf7123b8-0ca9-45bc-96bd-32d45f103968"
      },
      "execution_count": null,
      "outputs": [
        {
          "output_type": "display_data",
          "data": {
            "text/plain": [
              "<Figure size 432x288 with 1 Axes>"
            ],
            "image/png": "[encoded data removed]"
          },
          "metadata": {
            "needs_background": "light"
          }
        }
      ]
    },
    {
      "cell_type": "code",
      "source": [
        "import numpy as np\n",
        "\n",
        "# Obtenir les noms des variables\n",
        "var_names = X.columns\n",
        "\n",
        "# Obtenir les coefficients\n",
        "coef = ridge.coef_\n",
        "\n",
        "# Tracer les coefficients\n",
        "plt.bar(np.arange(len(var_names)), coef)\n",
        "\n",
        "# Ajouter les noms des variables sur l'axe des x\n",
        "plt.xticks(np.arange(len(var_names)), var_names, rotation=90)\n",
        "\n",
        "# Ajouter un titre et des labels d'axes\n",
        "plt.title('Importance des variables')\n",
        "plt.xlabel('Variables')\n",
        "plt.ylabel('Coefficient')\n",
        "\n",
        "# Afficher le graphique\n",
        "plt.show()\n"
      ],
      "metadata": {
        "colab": {
          "base_uri": "https://localhost:8080/",
          "height": 327
        },
        "id": "nrTUKixJ_JTr",
        "outputId": "1def9363-7c83-4d51-a99f-8ffa016c03f1"
      },
      "execution_count": null,
      "outputs": [
        {
          "output_type": "display_data",
          "data": {
            "text/plain": [
              "<Figure size 432x288 with 1 Axes>"
            ],
            "image/png": "[encoded data removed]"
          },
          "metadata": {
            "needs_background": "light"
          }
        }
      ]
    },
    {
      "cell_type": "markdown",
      "source": [
        "# **Regréssion linéaire avec Lasso**"
      ],
      "metadata": {
        "id": "mmBAdpc-8-c0"
      }
    },
    {
      "cell_type": "code",
      "source": [
        "from sklearn.linear_model import Lasso"
      ],
      "metadata": {
        "id": "ycCW1X9G9ELv"
      },
      "execution_count": null,
      "outputs": []
    },
    {
      "cell_type": "code",
      "source": [
        "df_Lasso = pd.read_csv('HousingData.csv')\n",
        "df_Lasso = df_Lasso.dropna() # enlever les individus possèdant une variable NULL"
      ],
      "metadata": {
        "id": "Pqj9oSjO91la"
      },
      "execution_count": null,
      "outputs": []
    },
    {
      "cell_type": "code",
      "source": [
        "X = df_Lasso.drop('MEDV', axis=1)\n",
        "y = df_Lasso['MEDV']\n",
        "X_train, X_test, y_train, y_test = train_test_split(X, y, test_size=0.3, random_state=42)\n"
      ],
      "metadata": {
        "id": "UpqYDTwI9us5"
      },
      "execution_count": null,
      "outputs": []
    },
    {
      "cell_type": "code",
      "source": [
        "scaler = StandardScaler()\n",
        "X_train_scaled = scaler.fit_transform(X_train)\n",
        "X_test_scaled = scaler.transform(X_test)\n"
      ],
      "metadata": {
        "id": "YX3EUJ9Z-CD8"
      },
      "execution_count": null,
      "outputs": []
    },
    {
      "cell_type": "code",
      "source": [
        "lasso = Lasso(alpha=0.1)\n",
        "lasso.fit(X_train_scaled, y_train)\n"
      ],
      "metadata": {
        "colab": {
          "base_uri": "https://localhost:8080/",
          "height": 74
        },
        "id": "8as6Tb5b-EUV",
        "outputId": "82cdb87d-e7ab-4f67-e404-129332d02413"
      },
      "execution_count": null,
      "outputs": [
        {
          "output_type": "execute_result",
          "data": {
            "text/plain": [
              "Lasso(alpha=0.1)"
            ],
            "text/html": [
              "<style>#sk-container-id-4 {color: black;background-color: white;}#sk-container-id-4 pre{padding: 0;}#sk-container-id-4 div.sk-toggleable {background-color: white;}#sk-container-id-4 label.sk-toggleable__label {cursor: pointer;display: block;width: 100%;margin-bottom: 0;padding: 0.3em;box-sizing: border-box;text-align: center;}#sk-container-id-4 label.sk-toggleable__label-arrow:before {content: \"▸\";float: left;margin-right: 0.25em;color: #696969;}#sk-container-id-4 label.sk-toggleable__label-arrow:hover:before {color: black;}#sk-container-id-4 div.sk-estimator:hover label.sk-toggleable__label-arrow:before {color: black;}#sk-container-id-4 div.sk-toggleable__content {max-height: 0;max-width: 0;overflow: hidden;text-align: left;background-color: #f0f8ff;}#sk-container-id-4 div.sk-toggleable__content pre {margin: 0.2em;color: black;border-radius: 0.25em;background-color: #f0f8ff;}#sk-container-id-4 input.sk-toggleable__control:checked~div.sk-toggleable__content {max-height: 200px;max-width: 100%;overflow: auto;}#sk-container-id-4 input.sk-toggleable__control:checked~label.sk-toggleable__label-arrow:before {content: \"▾\";}#sk-container-id-4 div.sk-estimator input.sk-toggleable__control:checked~label.sk-toggleable__label {background-color: #d4ebff;}#sk-container-id-4 div.sk-label input.sk-toggleable__control:checked~label.sk-toggleable__label {background-color: #d4ebff;}#sk-container-id-4 input.sk-hidden--visually {border: 0;clip: rect(1px 1px 1px 1px);clip: rect(1px, 1px, 1px, 1px);height: 1px;margin: -1px;overflow: hidden;padding: 0;position: absolute;width: 1px;}#sk-container-id-4 div.sk-estimator {font-family: monospace;background-color: #f0f8ff;border: 1px dotted black;border-radius: 0.25em;box-sizing: border-box;margin-bottom: 0.5em;}#sk-container-id-4 div.sk-estimator:hover {background-color: #d4ebff;}#sk-container-id-4 div.sk-parallel-item::after {content: \"\";width: 100%;border-bottom: 1px solid gray;flex-grow: 1;}#sk-container-id-4 div.sk-label:hover label.sk-toggleable__label {background-color: #d4ebff;}#sk-container-id-4 div.sk-serial::before {content: \"\";position: absolute;border-left: 1px solid gray;box-sizing: border-box;top: 0;bottom: 0;left: 50%;z-index: 0;}#sk-container-id-4 div.sk-serial {display: flex;flex-direction: column;align-items: center;background-color: white;padding-right: 0.2em;padding-left: 0.2em;position: relative;}#sk-container-id-4 div.sk-item {position: relative;z-index: 1;}#sk-container-id-4 div.sk-parallel {display: flex;align-items: stretch;justify-content: center;background-color: white;position: relative;}#sk-container-id-4 div.sk-item::before, #sk-container-id-4 div.sk-parallel-item::before {content: \"\";position: absolute;border-left: 1px solid gray;box-sizing: border-box;top: 0;bottom: 0;left: 50%;z-index: -1;}#sk-container-id-4 div.sk-parallel-item {display: flex;flex-direction: column;z-index: 1;position: relative;background-color: white;}#sk-container-id-4 div.sk-parallel-item:first-child::after {align-self: flex-end;width: 50%;}#sk-container-id-4 div.sk-parallel-item:last-child::after {align-self: flex-start;width: 50%;}#sk-container-id-4 div.sk-parallel-item:only-child::after {width: 0;}#sk-container-id-4 div.sk-dashed-wrapped {border: 1px dashed gray;margin: 0 0.4em 0.5em 0.4em;box-sizing: border-box;padding-bottom: 0.4em;background-color: white;}#sk-container-id-4 div.sk-label label {font-family: monospace;font-weight: bold;display: inline-block;line-height: 1.2em;}#sk-container-id-4 div.sk-label-container {text-align: center;}#sk-container-id-4 div.sk-container {/* jupyter's `normalize.less` sets `[hidden] { display: none; }` but bootstrap.min.css set `[hidden] { display: none !important; }` so we also need the `!important` here to be able to override the default hidden behavior on the sphinx rendered scikit-learn.org. See: https://github.com/scikit-learn/scikit-learn/issues/21755 */display: inline-block !important;position: relative;}#sk-container-id-4 div.sk-text-repr-fallback {display: none;}</style><div id=\"sk-container-id-4\" class=\"sk-top-container\"><div class=\"sk-text-repr-fallback\"><pre>Lasso(alpha=0.1)</pre><b>In a Jupyter environment, please rerun this cell to show the HTML representation or trust the notebook. <br />On GitHub, the HTML representation is unable to render, please try loading this page with nbviewer.org.</b></div><div class=\"sk-container\" hidden><div class=\"sk-item\"><div class=\"sk-estimator sk-toggleable\"><input class=\"sk-toggleable__control sk-hidden--visually\" id=\"sk-estimator-id-4\" type=\"checkbox\" checked><label for=\"sk-estimator-id-4\" class=\"sk-toggleable__label sk-toggleable__label-arrow\">Lasso</label><div class=\"sk-toggleable__content\"><pre>Lasso(alpha=0.1)</pre></div></div></div></div></div>"
            ]
          },
          "metadata": {},
          "execution_count": 67
        }
      ]
    },
    {
      "cell_type": "code",
      "source": [
        "score = lasso.score(X_test_scaled, y_test)\n",
        "print(\"R² sur l'ensemble de test : {:.3f}\".format(score))\n",
        "\n",
        "y_pred = lasso.predict(X_test_scaled)\n",
        "mse = mean_squared_error(y_test, y_pred)\n",
        "print(\"MSE:\", mse)\n",
        "print(\"RMSE\",math.sqrt(mse))\n"
      ],
      "metadata": {
        "colab": {
          "base_uri": "https://localhost:8080/"
        },
        "id": "GTXIgrJm-EXj",
        "outputId": "9d1f69cc-b5b5-42c1-ba75-07fa473f3b46"
      },
      "execution_count": null,
      "outputs": [
        {
          "output_type": "stream",
          "name": "stdout",
          "text": [
            "R² sur l'ensemble de test : 0.680\n",
            "MSE: 29.871665042058556\n",
            "RMSE 5.465497693902958\n"
          ]
        }
      ]
    },
    {
      "cell_type": "code",
      "source": [
        "import matplotlib.pyplot as plt\n",
        "\n",
        "# Tracer le nuage de points avec les vraies valeurs\n",
        "plt.scatter(y_test, y_test, alpha=0.5)\n",
        "\n",
        "# Tracer les valeurs prédites\n",
        "plt.scatter(y_test, y_pred, alpha=0.5)\n",
        "\n",
        "# Ajouter un titre et des labels d'axes\n",
        "plt.title('Comparaison des valeurs prédites et des vraies valeurs')\n",
        "plt.xlabel('Vraies valeurs')\n",
        "plt.ylabel('Valeurs prédites')\n",
        "\n",
        "# Afficher le graphique\n",
        "plt.show()"
      ],
      "metadata": {
        "colab": {
          "base_uri": "https://localhost:8080/",
          "height": 295
        },
        "id": "pEW-oS7W_P6n",
        "outputId": "47136f8e-3e9c-4b9b-a3e2-dcc8c5061a7f"
      },
      "execution_count": null,
      "outputs": [
        {
          "output_type": "display_data",
          "data": {
            "text/plain": [
              "<Figure size 432x288 with 1 Axes>"
            ],
            "image/png": "[encoded data removed]"
          },
          "metadata": {
            "needs_background": "light"
          }
        }
      ]
    },
    {
      "cell_type": "code",
      "source": [
        "import numpy as np\n",
        "\n",
        "# Obtenir les noms des variables\n",
        "var_names = X.columns\n",
        "\n",
        "# Obtenir les coefficients\n",
        "coef = ridge.coef_\n",
        "\n",
        "# Tracer les coefficients\n",
        "plt.bar(np.arange(len(var_names)), coef)\n",
        "\n",
        "# Ajouter les noms des variables sur l'axe des x\n",
        "plt.xticks(np.arange(len(var_names)), var_names, rotation=90)\n",
        "\n",
        "# Ajouter un titre et des labels d'axes\n",
        "plt.title('Importance des variables')\n",
        "plt.xlabel('Variables')\n",
        "plt.ylabel('Coefficient')\n",
        "\n",
        "# Afficher le graphique\n",
        "plt.show()\n"
      ],
      "metadata": {
        "colab": {
          "base_uri": "https://localhost:8080/",
          "height": 327
        },
        "id": "l_vuKtzn_UoE",
        "outputId": "7a1cc7bb-5171-4df6-edd7-a03862290093"
      },
      "execution_count": null,
      "outputs": [
        {
          "output_type": "display_data",
          "data": {
            "text/plain": [
              "<Figure size 432x288 with 1 Axes>"
            ],
            "image/png": "[encoded data removed]"
          },
          "metadata": {
            "needs_background": "light"
          }
        }
      ]
    }
  ]
}